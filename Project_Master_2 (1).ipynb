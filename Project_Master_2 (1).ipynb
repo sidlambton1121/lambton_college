{
  "cells": [
    {
      "cell_type": "markdown",
      "source": [
        "# **PROJECT: PREDICTING THE SENTIMENTS OF THE TWEETS USING MACHINE LEARNING**"
      ],
      "metadata": {
        "id": "jHgHO6dSU5Y4"
      }
    },
    {
      "cell_type": "markdown",
      "source": [
        "Team Members:\n",
        "\n",
        "  - Chris Portugalisa: c0890038\n",
        "  - Jasser Arabe: c0885449\n",
        "  - Mohit Sharma: c0888345\n",
        "  - Siddharth Sawhney: c0885431\n",
        "  - Smill Valdez: c0883827"
      ],
      "metadata": {
        "id": "JZ14O42RUMvs"
      }
    },
    {
      "cell_type": "markdown",
      "metadata": {
        "id": "zPmZUB_bK9cR"
      },
      "source": [
        "**TABLE OF CONTENT**"
      ]
    },
    {
      "cell_type": "markdown",
      "metadata": {
        "colab_type": "toc",
        "id": "8QkGhITxKzzC"
      },
      "source": [
        ">[Load the data](#scrollTo=tU20oOfA0fxB)\n",
        "\n",
        ">[Exploratory Data Analysis](#scrollTo=qvh5VNwI2ah4)\n",
        "\n",
        ">>[2.1. Visualize the Distribution of the Target Variable](#scrollTo=d3XW69Xx3DFx)\n",
        "\n",
        ">>[2.2. Generate a Word Cloud](#scrollTo=7heUuDGO3Omy)\n",
        "\n",
        ">>[2.3. Check for missing values](#scrollTo=64IjaIKX3dYm)\n",
        "\n",
        ">>[2.4. Visualize Text Length Distribution](#scrollTo=BdOOsYzk3gEY)\n",
        "\n",
        ">>[2.5. EDA Insights](#scrollTo=dyU5t3xN7vCp)\n",
        "\n",
        ">[Data Pre-processing](#scrollTo=B-8jw4bH78U_)\n",
        "\n",
        ">[Model Building](#scrollTo=fUG9pxICICSJ)\n",
        "\n",
        ">>[4.1. Logistic Regression](#scrollTo=cZeb5DBNNMKM)\n",
        "\n",
        ">>[4.2. Naive Bayes](#scrollTo=F4RdXN32NYm5)\n",
        "\n",
        ">>[4.3. Linear Support Vector Machine](#scrollTo=YHolrJRsNcBu)\n",
        "\n",
        ">>[4.4. Random Forest](#scrollTo=HmW8NQl0NgOU)\n",
        "\n",
        ">>[4.5 SGDC Classifier with logistic regression setting](#scrollTo=pajlmNOCrdEn)\n",
        "\n",
        ">>[4.6. ANN](#scrollTo=bOccLJvoeYQa)\n",
        "\n",
        ">>[4.7. VADER Lexicon](#scrollTo=3EMdKtMxNgBw)\n",
        "\n",
        ">[SentiWordNet](#scrollTo=jo4b2eCz9z2H)\n",
        "\n",
        ">[Model Evaluation](#scrollTo=WphXuwSnTN5s)\n",
        "\n",
        ">[Model Optimization](#scrollTo=7l_8awzQYHii)\n",
        "\n",
        ">[Sentiment Predictions](#scrollTo=DxQu040NFUyd)\n",
        "\n"
      ]
    },
    {
      "cell_type": "markdown",
      "metadata": {
        "id": "tU20oOfA0fxB"
      },
      "source": [
        "#1. Load the data"
      ]
    },
    {
      "cell_type": "markdown",
      "metadata": {
        "id": "DZ7K8AQI1BIw"
      },
      "source": [
        "We will:\n",
        "- Load the Dataset: We'll load the dataset into a pandas DataFrame to examine its structure.\n",
        "- Identify Columns and Data Types: We'll identify the target variable and the features available for prediction."
      ]
    },
    {
      "cell_type": "code",
      "execution_count": null,
      "metadata": {
        "id": "OCFbTQBMz8EI"
      },
      "outputs": [],
      "source": [
        "import os\n",
        "os.environ['KAGGLE_CONFIG_DIR'] = '/content'"
      ]
    },
    {
      "cell_type": "code",
      "execution_count": null,
      "metadata": {
        "colab": {
          "base_uri": "https://localhost:8080/"
        },
        "id": "fHAjaNlYRr-D",
        "outputId": "604e72c6-7d8d-4ca5-bc36-486ed2277eb9"
      },
      "outputs": [
        {
          "output_type": "stream",
          "name": "stdout",
          "text": [
            "Warning: Your Kaggle API key is readable by other users on this system! To fix this, you can run 'chmod 600 /content/kaggle.json'\n",
            "Downloading sentiment140.zip to /content\n",
            " 95% 77.0M/80.9M [00:02<00:00, 40.8MB/s]\n",
            "100% 80.9M/80.9M [00:02<00:00, 30.3MB/s]\n"
          ]
        }
      ],
      "source": [
        "!kaggle datasets download -d kazanova/sentiment140"
      ]
    },
    {
      "cell_type": "code",
      "execution_count": null,
      "metadata": {
        "colab": {
          "base_uri": "https://localhost:8080/"
        },
        "id": "JXwcJAGQRvXk",
        "outputId": "65cda0c6-1267-4087-a22c-0a438a3dec93"
      },
      "outputs": [
        {
          "output_type": "stream",
          "name": "stdout",
          "text": [
            "Archive:  sentiment140.zip\n",
            "  inflating: training.1600000.processed.noemoticon.csv  \n"
          ]
        }
      ],
      "source": [
        "!unzip \\*.zip && rm *.zip"
      ]
    },
    {
      "cell_type": "code",
      "execution_count": null,
      "metadata": {
        "colab": {
          "base_uri": "https://localhost:8080/"
        },
        "id": "A1efYCjFRx17",
        "outputId": "665d9898-4520-4d4a-cc40-491974b82097"
      },
      "outputs": [
        {
          "output_type": "stream",
          "name": "stderr",
          "text": [
            "[nltk_data] Downloading package punkt to /root/nltk_data...\n",
            "[nltk_data]   Unzipping tokenizers/punkt.zip.\n",
            "[nltk_data] Downloading package stopwords to /root/nltk_data...\n",
            "[nltk_data]   Unzipping corpora/stopwords.zip.\n"
          ]
        },
        {
          "output_type": "stream",
          "name": "stdout",
          "text": [
            "Collecting text_normalizer\n",
            "  Downloading text-normalizer-0.1.3.tar.gz (25 kB)\n",
            "  Preparing metadata (setup.py) ... \u001b[?25l\u001b[?25hdone\n",
            "Requirement already satisfied: pandas in /usr/local/lib/python3.10/dist-packages (from text_normalizer) (2.0.3)\n",
            "Requirement already satisfied: python-dateutil>=2.8.2 in /usr/local/lib/python3.10/dist-packages (from pandas->text_normalizer) (2.8.2)\n",
            "Requirement already satisfied: pytz>=2020.1 in /usr/local/lib/python3.10/dist-packages (from pandas->text_normalizer) (2023.4)\n",
            "Requirement already satisfied: tzdata>=2022.1 in /usr/local/lib/python3.10/dist-packages (from pandas->text_normalizer) (2024.1)\n",
            "Requirement already satisfied: numpy>=1.21.0 in /usr/local/lib/python3.10/dist-packages (from pandas->text_normalizer) (1.25.2)\n",
            "Requirement already satisfied: six>=1.5 in /usr/local/lib/python3.10/dist-packages (from python-dateutil>=2.8.2->pandas->text_normalizer) (1.16.0)\n",
            "Building wheels for collected packages: text_normalizer\n",
            "  Building wheel for text_normalizer (setup.py) ... \u001b[?25l\u001b[?25hdone\n",
            "  Created wheel for text_normalizer: filename=text_normalizer-0.1.3-cp310-cp310-linux_x86_64.whl size=247444 sha256=77ceee3a7966ceb91ea66d4f839c44fd256f2edc6197f758ec99a295f390845d\n",
            "  Stored in directory: /root/.cache/pip/wheels/fa/9f/80/4a4e7d2d6f6fc35b19993353c2c8f1f7ac48ac29c826d2e676\n",
            "Successfully built text_normalizer\n",
            "Installing collected packages: text_normalizer\n",
            "Successfully installed text_normalizer-0.1.3\n"
          ]
        }
      ],
      "source": [
        "## importing important libraries\n",
        "import pandas as pd\n",
        "import numpy as np\n",
        "import re\n",
        "import seaborn as sns\n",
        "import matplotlib.pyplot as plt\n",
        "from matplotlib import style\n",
        "style.use('ggplot')\n",
        "import nltk\n",
        "nltk.download('punkt')\n",
        "from textblob import TextBlob\n",
        "from nltk.tokenize import word_tokenize\n",
        "from nltk.stem import PorterStemmer\n",
        "from nltk.corpus import stopwords\n",
        "nltk.download('stopwords')\n",
        "stop_words = set(stopwords.words('english'))\n",
        "!pip install text_normalizer\n",
        "import text_normalizer as tn\n",
        "from wordcloud import WordCloud\n",
        "from sklearn.feature_extraction.text import CountVectorizer\n",
        "from sklearn.metrics import accuracy_score, classification_report, confusion_matrix, ConfusionMatrixDisplay"
      ]
    },
    {
      "cell_type": "code",
      "execution_count": null,
      "metadata": {
        "id": "wzarejLDR3Sn"
      },
      "outputs": [],
      "source": [
        "## creating the dataframe\n",
        "data = pd.read_csv(\"training.1600000.processed.noemoticon.csv\", encoding = ('ISO-8859-1'), names=['label', 'tweet_id', 'timestamp', 'query', 'user_id', 'text'])"
      ]
    },
    {
      "cell_type": "markdown",
      "metadata": {
        "id": "_bW1zwK-1WnP"
      },
      "source": [
        "The dataset has been successfully loaded, and it consists of six columns. Based on the initial examination, here's a brief overview:\n",
        "\n",
        "- label: Appears to be the target variable with integer values, likely indicating sentiment (e.g., 0 for negative, 1 for positive).\n",
        "- tweet_id: Seems to be an ID or timestamp (also an integer).\n",
        "- timestamp: Contains timestamps in a readable format.\n",
        "- query: Has a constant value \"NO_QUERY\" in the first few rows; its purpose is unclear without further examination, but it might not be relevant for sentiment analysis.\n",
        "- user_id: Likely represents usernames.\n",
        "- text: Contains the text data, which is what we're most interested in for sentiment analysis.\n",
        "\n",
        "*The data types are as follows:*\n",
        "\n",
        "Integer for columns label and tweet_id, and object (string) for columns timestamp to user_id.\n",
        "Given this structure, our target variable for sentiment analysis is in Column label, and the feature available for prediction is the text data in Column text."
      ]
    },
    {
      "cell_type": "markdown",
      "metadata": {
        "id": "qvh5VNwI2ah4"
      },
      "source": [
        "#2. Exploratory Data Analysis"
      ]
    },
    {
      "cell_type": "markdown",
      "metadata": {
        "id": "EmbBOoCu2eKo"
      },
      "source": [
        "1. Visualize the Distribution of the Target Variable: This helps us understand how balanced or imbalanced our dataset is in terms of sentiment.\n",
        "2. Explore Text Data:\n",
        "- Identify common words and phrases to understand the general sentiment and topics.\n",
        "- Generate word clouds or frequency distributions for a visual representation of the text data.\n",
        "3. Handle Missing Values: Check for and handle any missing values in the dataset, especially in the text data and the target variable.\n",
        "4. Visualize Text Length Distribution: Understanding the length of the tweets might give insights into the dataset's characteristics.\n",
        "\n"
      ]
    },
    {
      "cell_type": "markdown",
      "metadata": {
        "id": "d3XW69Xx3DFx"
      },
      "source": [
        "##2.1. Visualize the Distribution of the Target Variable"
      ]
    },
    {
      "cell_type": "markdown",
      "metadata": {
        "id": "qnNMqayy4HjJ"
      },
      "source": [
        "Balanced vs. Unbalanced: If the counts for each sentiment category are roughly equal, The dataset is balanced. This is ideal for training models. If one category dominates, we would need strategies to handle this imbalance, like oversampling, undersampling, or using weighted loss functions during model training."
      ]
    },
    {
      "cell_type": "code",
      "execution_count": null,
      "metadata": {
        "colab": {
          "base_uri": "https://localhost:8080/",
          "height": 477
        },
        "id": "1jFLvtFh2aJp",
        "outputId": "128ba86a-fe6e-42e1-d5bf-96b98179467a"
      },
      "outputs": [
        {
          "output_type": "display_data",
          "data": {
            "text/plain": [
              "<Figure size 640x480 with 1 Axes>"
            ],
            "image/png": "[encoded data removed]"
          },
          "metadata": {}
        }
      ],
      "source": [
        "import seaborn as sns\n",
        "import matplotlib.pyplot as plt\n",
        "\n",
        "# Assuming 'data' is your DataFrame and column label is the target variable\n",
        "sns.countplot(x=data['label'])\n",
        "plt.title('Distribution of Sentiments')\n",
        "plt.xlabel('Sentiment')\n",
        "plt.ylabel('Count')\n",
        "plt.show()"
      ]
    },
    {
      "cell_type": "markdown",
      "metadata": {
        "id": "7heUuDGO3Omy"
      },
      "source": [
        "##2.2. Generate a Word Cloud"
      ]
    },
    {
      "cell_type": "markdown",
      "metadata": {
        "id": "Uro6jEZE4LlN"
      },
      "source": [
        "Common Words and Themes: A word cloud will visually emphasize the most common words in your dataset. Frequent words that are not stop words can give you insight into the common themes or topics in your text data. If certain words are overly dominant, it may indicate common phrases or topics specific to your dataset's context."
      ]
    },
    {
      "cell_type": "code",
      "execution_count": null,
      "metadata": {
        "colab": {
          "base_uri": "https://localhost:8080/",
          "height": 424
        },
        "id": "ED3eCE_H3J9x",
        "outputId": "c3fd5303-d702-4820-aa9a-91e5497d9302"
      },
      "outputs": [
        {
          "output_type": "display_data",
          "data": {
            "text/plain": [
              "<Figure size 1000x700 with 1 Axes>"
            ],
            "image/png": "[encoded data removed]"
          },
          "metadata": {}
        }
      ],
      "source": [
        "from wordcloud import WordCloud\n",
        "\n",
        "# Combine all text data into a single string\n",
        "text = \" \".join(review for review in data['text'])\n",
        "\n",
        "# Generate a word cloud image\n",
        "wordcloud = WordCloud(background_color=\"white\").generate(text)\n",
        "\n",
        "# Display the generated image:\n",
        "plt.figure(figsize=(10, 7))\n",
        "plt.imshow(wordcloud, interpolation='bilinear')\n",
        "plt.axis('off')\n",
        "plt.show()"
      ]
    },
    {
      "cell_type": "markdown",
      "metadata": {
        "id": "64IjaIKX3dYm"
      },
      "source": [
        "##2.3. Check for missing values"
      ]
    },
    {
      "cell_type": "markdown",
      "metadata": {
        "id": "v1pnIfGk4Mtf"
      },
      "source": [
        "Handling Missing Data: If certain columns, especially the text data or target variable, have missing values, you'll need to decide how to handle them. Common strategies include removing rows with missing values or imputing them based on the data distribution. For text data, missing values can sometimes be replaced with a placeholder text like \"missing.\""
      ]
    },
    {
      "cell_type": "code",
      "execution_count": null,
      "metadata": {
        "colab": {
          "base_uri": "https://localhost:8080/"
        },
        "id": "zp8XW9P_3Ypg",
        "outputId": "34c5b58a-4a39-43f5-a897-37ea46fc432a"
      },
      "outputs": [
        {
          "output_type": "stream",
          "name": "stdout",
          "text": [
            "label        0\n",
            "tweet_id     0\n",
            "timestamp    0\n",
            "query        0\n",
            "user_id      0\n",
            "text         0\n",
            "dtype: int64\n"
          ]
        }
      ],
      "source": [
        "missing_values = data.isnull().sum()\n",
        "print(missing_values)"
      ]
    },
    {
      "cell_type": "markdown",
      "metadata": {
        "id": "BdOOsYzk3gEY"
      },
      "source": [
        "##2.4. Visualize Text Length Distribution"
      ]
    },
    {
      "cell_type": "markdown",
      "metadata": {
        "id": "97KY3t9D4PSu"
      },
      "source": [
        "Insights from Text Length:\n",
        "- Mean and Median: These measures give you an idea of the average length of text in your dataset. A large difference between the mean and median may indicate outliers or a skewed distribution.\n",
        "- Min and Max: The minimum and maximum lengths can highlight if there are any texts that are unusually short or long, which could be outliers or errors.\n",
        "- Standard Deviation: A high standard deviation indicates a wide range of text lengths, while a low standard deviation suggests that most texts are of similar length."
      ]
    },
    {
      "cell_type": "code",
      "execution_count": null,
      "metadata": {
        "colab": {
          "base_uri": "https://localhost:8080/"
        },
        "id": "ZQe8Soq63bMi",
        "outputId": "1500f21e-ffa6-40b9-e6eb-1e1f882e9c40"
      },
      "outputs": [
        {
          "output_type": "stream",
          "name": "stdout",
          "text": [
            "count    1.600000e+06\n",
            "mean     7.409011e+01\n",
            "std      3.644114e+01\n",
            "min      6.000000e+00\n",
            "25%      4.400000e+01\n",
            "50%      6.900000e+01\n",
            "75%      1.040000e+02\n",
            "max      3.740000e+02\n",
            "Name: text_length, dtype: float64\n"
          ]
        }
      ],
      "source": [
        "# Calculate text length for each tweet\n",
        "data['text_length'] = data.iloc[:, 5].apply(len)\n",
        "text_length_stats = data['text_length'].describe()\n",
        "print(text_length_stats)"
      ]
    },
    {
      "cell_type": "markdown",
      "metadata": {
        "id": "dyU5t3xN7vCp"
      },
      "source": [
        "##2.5. EDA Insights"
      ]
    },
    {
      "cell_type": "markdown",
      "metadata": {
        "id": "tmpTQ6v96yHI"
      },
      "source": [
        "1. Sentiment Distribution:\n",
        "  - The distribution of sentiments is balanced with two distinct classes, typically indicating positive and negative sentiments.\n",
        "  - Each class has roughly the same number of entries, suggesting that the dataset is well-suited for training classification models without the need for sampling techniques to address class imbalance.\n",
        "\n",
        "2. Missing Values:\n",
        "  - There are no missing values in any of the columns, which means there is no need for imputation or removal of missing data, and the dataset is clean in this respect.\n",
        "\n",
        "3. Word Cloud:\n",
        "  - The word cloud suggests a mix of positive and negative words, with positive words like \"love,\" \"thank,\" and \"good\" appearing prominently, as well as negative words such as \"miss\" and \"hate.\"\n",
        "  - Common terms related to social media interactions like \"twitter,\" \"twitpic,\" and \"facebook\" are also visible, which is expected given the context of the data.\n",
        "  - Words related to daily life and personal experiences, such as \"work,\" \"going,\" \"today,\" \"back,\" and \"time,\" indicate the personal nature of the text content.\n",
        "\n",
        "4. Text Length Statistics:\n",
        "  - The average length of a text entry is around 74 characters, with a standard deviation of about 36 characters, suggesting moderate variance in text length.\n",
        "  - The minimum text length is very short at only 6 characters, and the maximum length is 374 characters, which is close to the historical 280-character limit of Twitter, suggesting that the text data is sourced from a platform with a character limit.\n",
        "  - The 25th percentile is at 44 characters, the median (50th percentile) is at 69 characters, and the 75th percentile is at 104 characters, indicating a right-skewed distribution where most texts are shorter rather than longer."
      ]
    },
    {
      "cell_type": "markdown",
      "metadata": {
        "id": "B-8jw4bH78U_"
      },
      "source": [
        "#3. Data Pre-processing"
      ]
    },
    {
      "cell_type": "markdown",
      "metadata": {
        "id": "octcmB9v8XYA"
      },
      "source": [
        "Data preprocessing involves cleaning and preparing the text data for modeling. Here's what we'll do for the data preprocessing step:\n",
        "\n",
        "- Remove User Mentions and Hashtags: User mentions (e.g., \"@username\") and hashtags (e.g., \"#example\") are common in social media data but might not contribute significantly to the analysis.\n",
        "- Replace Emojis: Emojis can convey sentiments or emotions, but they can be challenging for machine learning models to interpret directly.\n",
        "- Replace Chatwords: Chatwords or internet slang (e.g., \"lol\", \"brb\") may not be recognized by standard language processing tools.\n",
        "- Remove Punctuation: Punctuation marks such as periods, commas, and exclamation points may not carry significant meaning for some tasks and can be removed from the text using string manipulation functions or regular expressions.\n",
        "- Remove Stopwords: Stopwords are common words like \"the\", \"is\", \"and\", etc., that occur frequently in text but often do not contribute much to the overall meaning.\n",
        "- Remove URL: URLs often appear in text data but may not be relevant to the analysis.\n",
        "-\tLemmatization: Reduce words to their root form. Lemmatization is typically more useful as it converts words to their meaningful base form.\n",
        "-\tVectorization: Convert text to a numerical format that machine learning models can understand using TF-IDF vectorization.\n",
        "-\tSplit the Data: Divide the dataset into training and testing."
      ]
    },
    {
      "cell_type": "code",
      "execution_count": null,
      "metadata": {
        "id": "uhuSZIymrMEo"
      },
      "outputs": [],
      "source": [
        "# Import all necessary libraries\n",
        "import pandas as pd\n",
        "import re\n",
        "from nltk.corpus import stopwords\n",
        "from nltk.stem import WordNetLemmatizer\n",
        "from sklearn.feature_extraction.text import TfidfVectorizer\n",
        "import nltk"
      ]
    },
    {
      "cell_type": "code",
      "execution_count": null,
      "metadata": {
        "colab": {
          "base_uri": "https://localhost:8080/"
        },
        "id": "yCh7NQOjrZjm",
        "outputId": "abc4e518-2422-4028-85bc-965694fed3cb"
      },
      "outputs": [
        {
          "output_type": "stream",
          "name": "stderr",
          "text": [
            "[nltk_data] Downloading package stopwords to /root/nltk_data...\n",
            "[nltk_data]   Package stopwords is already up-to-date!\n",
            "[nltk_data] Downloading package wordnet to /root/nltk_data...\n"
          ]
        },
        {
          "output_type": "execute_result",
          "data": {
            "text/plain": [
              "True"
            ]
          },
          "metadata": {},
          "execution_count": 7
        }
      ],
      "source": [
        "# Download necessary NLTK resources\n",
        "nltk.download('stopwords')\n",
        "nltk.download('wordnet')"
      ]
    },
    {
      "cell_type": "code",
      "execution_count": null,
      "metadata": {
        "id": "NFqeLI2grhL9"
      },
      "outputs": [],
      "source": [
        "# Pre-defined replacements dictionaries\n",
        "# Define our emojis dictionary\n",
        "emojis_dict = {':)': 'smile', ':-)': 'smile', ';d': 'wink', ':-E': 'vampire', ':(': 'sad',\n",
        "          ':-(': 'sad', ':-<': 'sad', ':P': 'raspberry', ':O': 'surprised',\n",
        "          ':-@': 'shocked', ':@': 'shocked',':-$': 'confused', ':\\\\': 'annoyed',\n",
        "          ':#': 'mute', ':X': 'mute', ':^)': 'smile', ':-&': 'confused', '$_$': 'greedy',\n",
        "          '@@': 'eyeroll', ':-!': 'confused', ':-D': 'smile', ':-0': 'yell', 'O.o': 'confused',\n",
        "          '<(-_-)>': 'robot', 'd[-_-]b': 'dj', \":'-)\": 'sadsmile', ';)': 'wink',\n",
        "          ';-)': 'wink', 'O:-)': 'angel','O*-)': 'angel','(:-D': 'gossip', '=^.^=': 'cat'}\n",
        "# Define our chat words dictionary\n",
        "chat_words_dict = {\"BRB\": \"Be right back\",\n",
        "        \"BTW\": \"By the way\",\n",
        "        \"OMG\": \"Oh my God/goodness\",\n",
        "        \"TTYL\": \"Talk to you later\",\n",
        "        \"OMW\": \"On my way\",\n",
        "        \"SMH/SMDH\": \"Shaking my head/shaking my darn head\",\n",
        "        \"LOL\": \"Laugh out loud\",\n",
        "        \"TBD\": \"To be determined\",\n",
        "        \"IMHO/IMO\": \"In my humble opinion\",\n",
        "        \"HMU\": \"Hit me up\",\n",
        "        \"IIRC\": \"If I remember correctly\",\n",
        "        \"LMK\": \"Let me know\",\n",
        "        \"OG\": \"Original gangsters (used for old friends)\",\n",
        "        \"FTW\": \"For the win\",\n",
        "        \"NVM\": \"Nevermind\",\n",
        "        \"OOTD\": \"Outfit of the day\",\n",
        "        \"Ngl\": \"Not gonna lie\",\n",
        "        \"Rq\": \"real quick\",\n",
        "        \"Iykyk\": \"If you know, you know\",\n",
        "        \"Ong\": \"On god (I swear)\",\n",
        "        \"YAAAS\": \"Yes!\",\n",
        "        \"Brt\": \"Be right there\",\n",
        "        \"Sm\": \"So much\",\n",
        "        \"Ig\": \"I guess\",\n",
        "        \"Wya\": \"Where you at\",\n",
        "        \"Istg\": \"I swear to god\",\n",
        "        \"Hbu\": \"How about you\",\n",
        "        \"Atm\": \"At the moment\",\n",
        "        \"Asap\": \"As soon as possible\",\n",
        "        \"Fyi\": \"For your information\"}"
      ]
    },
    {
      "cell_type": "code",
      "execution_count": null,
      "metadata": {
        "id": "5R8gc_x5r0X9"
      },
      "outputs": [],
      "source": [
        "# Initialize stopwords and lemmatizer\n",
        "stop_words_set = set(stopwords.words('english'))\n",
        "lemmatizer = WordNetLemmatizer()"
      ]
    },
    {
      "cell_type": "code",
      "execution_count": null,
      "metadata": {
        "id": "4970qBmesWFX"
      },
      "outputs": [],
      "source": [
        "# Cleaning functions\n",
        "# Remove user mentions and hashtags using regular expression\n",
        "def remove_user_hashtag(text):\n",
        "    return re.sub(r'@[^ ]+|#[^ ]+', '', text)\n",
        "\n",
        "# Replace emojis in the text with their corresponding words based on the provided dictionary of emojis\n",
        "def replace_emojis(text, emojis):\n",
        "    for emoji, word in emojis.items():\n",
        "        text = text.replace(emoji, \" \" + word)\n",
        "    return text\n",
        "\n",
        "# Replace commonly used chat words based on the provided dictionary of chat_words and using regular expression\n",
        "def replace_chat_words(text, chat_words):\n",
        "    pattern = re.compile(r'\\b(' + '|'.join(re.escape(key) for key in chat_words.keys()) + r')\\b')\n",
        "    return pattern.sub(lambda x: chat_words[x.group()], text)\n",
        "\n",
        "# Remove punctuation marks using regular expression\n",
        "def remove_punctuation(text):\n",
        "    return re.sub(r'[^\\w\\s]', '', text)\n",
        "\n",
        "# Remove stopwords, improving text analysis by eliminating common words that carry little meaning\n",
        "def remove_stopwords(text):\n",
        "    return ' '.join(word for word in text.split() if word not in stop_words_set)\n",
        "\n",
        "# Apply lemmatization to normalize words for better text analysis and understanding\n",
        "def lemmatize_text(text):\n",
        "    return ' '.join(lemmatizer.lemmatize(word) for word in text.split())"
      ]
    },
    {
      "cell_type": "code",
      "execution_count": null,
      "metadata": {
        "id": "4BtCuA0esMns"
      },
      "outputs": [],
      "source": [
        "# Apply all cleaning operations\n",
        "data['text'] = data['text'].str.lower()\n",
        "data['text'] = data['text'].apply(remove_user_hashtag)\n",
        "data['text'] = data['text'].apply(replace_emojis, emojis=emojis_dict)\n",
        "data['text'] = data['text'].apply(replace_chat_words, chat_words=chat_words_dict)\n",
        "data['text'] = data['text'].apply(remove_punctuation)\n",
        "data['text'] = data['text'].apply(remove_stopwords)\n",
        "data['text'] = data['text'].apply(lemmatize_text)"
      ]
    },
    {
      "cell_type": "code",
      "execution_count": null,
      "metadata": {
        "id": "14DFwMghvF2X"
      },
      "outputs": [],
      "source": [
        "# Apply regular expression to remove URLs\n",
        "data['text'] = data['text'].apply(lambda t: re.sub(\"https\\S+www\\S+https\\s+|http\\S+\", '', t, flags=re.MULTILINE))"
      ]
    },
    {
      "cell_type": "code",
      "execution_count": null,
      "metadata": {
        "id": "IrZcb0BCsaa9"
      },
      "outputs": [],
      "source": [
        "# Vectorize the cleaned text using TF-IDF with range of unigrams and bigrams\n",
        "tfidf_vectorizer = TfidfVectorizer(ngram_range=(1, 2), max_features=10000)\n",
        "# Fit and transform the text data from the 'text' column to create the TF-IDF matrix\n",
        "tfidf_matrix = tfidf_vectorizer.fit_transform(data['text'])"
      ]
    },
    {
      "cell_type": "code",
      "execution_count": null,
      "metadata": {
        "colab": {
          "base_uri": "https://localhost:8080/",
          "height": 833
        },
        "id": "sa_fbJnQtbLM",
        "outputId": "bf796eaf-cdc3-49c3-aaf3-f8acd44c0c6c"
      },
      "outputs": [
        {
          "output_type": "execute_result",
          "data": {
            "text/plain": [
              "    label    tweet_id                     timestamp     query  \\\n",
              "0       0  1467810369  Mon Apr 06 22:19:45 PDT 2009  NO_QUERY   \n",
              "1       0  1467810672  Mon Apr 06 22:19:49 PDT 2009  NO_QUERY   \n",
              "2       0  1467810917  Mon Apr 06 22:19:53 PDT 2009  NO_QUERY   \n",
              "3       0  1467811184  Mon Apr 06 22:19:57 PDT 2009  NO_QUERY   \n",
              "4       0  1467811193  Mon Apr 06 22:19:57 PDT 2009  NO_QUERY   \n",
              "5       0  1467811372  Mon Apr 06 22:20:00 PDT 2009  NO_QUERY   \n",
              "6       0  1467811592  Mon Apr 06 22:20:03 PDT 2009  NO_QUERY   \n",
              "7       0  1467811594  Mon Apr 06 22:20:03 PDT 2009  NO_QUERY   \n",
              "8       0  1467811795  Mon Apr 06 22:20:05 PDT 2009  NO_QUERY   \n",
              "9       0  1467812025  Mon Apr 06 22:20:09 PDT 2009  NO_QUERY   \n",
              "10      0  1467812416  Mon Apr 06 22:20:16 PDT 2009  NO_QUERY   \n",
              "11      0  1467812579  Mon Apr 06 22:20:17 PDT 2009  NO_QUERY   \n",
              "12      0  1467812723  Mon Apr 06 22:20:19 PDT 2009  NO_QUERY   \n",
              "13      0  1467812771  Mon Apr 06 22:20:19 PDT 2009  NO_QUERY   \n",
              "14      0  1467812784  Mon Apr 06 22:20:20 PDT 2009  NO_QUERY   \n",
              "15      0  1467812799  Mon Apr 06 22:20:20 PDT 2009  NO_QUERY   \n",
              "16      0  1467812964  Mon Apr 06 22:20:22 PDT 2009  NO_QUERY   \n",
              "17      0  1467813137  Mon Apr 06 22:20:25 PDT 2009  NO_QUERY   \n",
              "18      0  1467813579  Mon Apr 06 22:20:31 PDT 2009  NO_QUERY   \n",
              "19      0  1467813782  Mon Apr 06 22:20:34 PDT 2009  NO_QUERY   \n",
              "20      0  1467813985  Mon Apr 06 22:20:37 PDT 2009  NO_QUERY   \n",
              "21      0  1467813992  Mon Apr 06 22:20:38 PDT 2009  NO_QUERY   \n",
              "22      0  1467814119  Mon Apr 06 22:20:40 PDT 2009  NO_QUERY   \n",
              "23      0  1467814180  Mon Apr 06 22:20:40 PDT 2009  NO_QUERY   \n",
              "24      0  1467814192  Mon Apr 06 22:20:41 PDT 2009  NO_QUERY   \n",
              "\n",
              "            user_id                                               text  \n",
              "0   _TheSpecialOne_   awww thats bummer shoulda got david carr thir...  \n",
              "1     scotthamilton  upset cant update facebook texting might cry r...  \n",
              "2          mattycus  dived many time ball managed save 50 rest go b...  \n",
              "3           ElleCTF                    whole body feel itchy like fire  \n",
              "4            Karoli                           behaving im mad cant see  \n",
              "5          joy_wolf                                         whole crew  \n",
              "6           mybirch                                           need hug  \n",
              "7              coZZ  hey long time see yes rain bit bit lol im fine...  \n",
              "8   2Hood4Hollywood                                         nope didnt  \n",
              "9           mimismo                                          que muera  \n",
              "10   erinx3leannexo                    spring break plain city snowing  \n",
              "11     pardonlauren                                      repierced ear  \n",
              "12             TLeC    couldnt bear watch thought ua loss embarrassing  \n",
              "13  robrobbierobert                count idk either never talk anymore  \n",
              "14      bayofwolves  wouldve first didnt gun really though zac snyd...  \n",
              "15       HairByJess                       wish got watch miss premiere  \n",
              "16   lovesongwriter  hollis death scene hurt severely watch film wr...  \n",
              "17         armotley                                           file tax  \n",
              "18       starkissed     ahh ive always wanted see rent love soundtrack  \n",
              "19        gi_gi_bee             oh dear drinking forgotten table drink  \n",
              "20           quanvu                            day didnt get much done  \n",
              "21       swinspeedx  one friend called asked meet mid valley todayb...  \n",
              "22        cooliodoc                                    baked cake ated  \n",
              "23       viJILLante                                   week going hoped  \n",
              "24       Ljelli3166                             blagh class 8 tomorrow  "
            ],
            "text/html": [
              "\n",
              "  <div id=\"df-73fb97fc-99ae-475e-8fe3-4c95971e5751\" class=\"colab-df-container\">\n",
              "    <div>\n",
              "<style scoped>\n",
              "    .dataframe tbody tr th:only-of-type {\n",
              "        vertical-align: middle;\n",
              "    }\n",
              "\n",
              "    .dataframe tbody tr th {\n",
              "        vertical-align: top;\n",
              "    }\n",
              "\n",
              "    .dataframe thead th {\n",
              "        text-align: right;\n",
              "    }\n",
              "</style>\n",
              "<table border=\"1\" class=\"dataframe\">\n",
              "  <thead>\n",
              "    <tr style=\"text-align: right;\">\n",
              "      <th></th>\n",
              "      <th>label</th>\n",
              "      <th>tweet_id</th>\n",
              "      <th>timestamp</th>\n",
              "      <th>query</th>\n",
              "      <th>user_id</th>\n",
              "      <th>text</th>\n",
              "    </tr>\n",
              "  </thead>\n",
              "  <tbody>\n",
              "    <tr>\n",
              "      <th>0</th>\n",
              "      <td>0</td>\n",
              "      <td>1467810369</td>\n",
              "      <td>Mon Apr 06 22:19:45 PDT 2009</td>\n",
              "      <td>NO_QUERY</td>\n",
              "      <td>_TheSpecialOne_</td>\n",
              "      <td>awww thats bummer shoulda got david carr thir...</td>\n",
              "    </tr>\n",
              "    <tr>\n",
              "      <th>1</th>\n",
              "      <td>0</td>\n",
              "      <td>1467810672</td>\n",
              "      <td>Mon Apr 06 22:19:49 PDT 2009</td>\n",
              "      <td>NO_QUERY</td>\n",
              "      <td>scotthamilton</td>\n",
              "      <td>upset cant update facebook texting might cry r...</td>\n",
              "    </tr>\n",
              "    <tr>\n",
              "      <th>2</th>\n",
              "      <td>0</td>\n",
              "      <td>1467810917</td>\n",
              "      <td>Mon Apr 06 22:19:53 PDT 2009</td>\n",
              "      <td>NO_QUERY</td>\n",
              "      <td>mattycus</td>\n",
              "      <td>dived many time ball managed save 50 rest go b...</td>\n",
              "    </tr>\n",
              "    <tr>\n",
              "      <th>3</th>\n",
              "      <td>0</td>\n",
              "      <td>1467811184</td>\n",
              "      <td>Mon Apr 06 22:19:57 PDT 2009</td>\n",
              "      <td>NO_QUERY</td>\n",
              "      <td>ElleCTF</td>\n",
              "      <td>whole body feel itchy like fire</td>\n",
              "    </tr>\n",
              "    <tr>\n",
              "      <th>4</th>\n",
              "      <td>0</td>\n",
              "      <td>1467811193</td>\n",
              "      <td>Mon Apr 06 22:19:57 PDT 2009</td>\n",
              "      <td>NO_QUERY</td>\n",
              "      <td>Karoli</td>\n",
              "      <td>behaving im mad cant see</td>\n",
              "    </tr>\n",
              "    <tr>\n",
              "      <th>5</th>\n",
              "      <td>0</td>\n",
              "      <td>1467811372</td>\n",
              "      <td>Mon Apr 06 22:20:00 PDT 2009</td>\n",
              "      <td>NO_QUERY</td>\n",
              "      <td>joy_wolf</td>\n",
              "      <td>whole crew</td>\n",
              "    </tr>\n",
              "    <tr>\n",
              "      <th>6</th>\n",
              "      <td>0</td>\n",
              "      <td>1467811592</td>\n",
              "      <td>Mon Apr 06 22:20:03 PDT 2009</td>\n",
              "      <td>NO_QUERY</td>\n",
              "      <td>mybirch</td>\n",
              "      <td>need hug</td>\n",
              "    </tr>\n",
              "    <tr>\n",
              "      <th>7</th>\n",
              "      <td>0</td>\n",
              "      <td>1467811594</td>\n",
              "      <td>Mon Apr 06 22:20:03 PDT 2009</td>\n",
              "      <td>NO_QUERY</td>\n",
              "      <td>coZZ</td>\n",
              "      <td>hey long time see yes rain bit bit lol im fine...</td>\n",
              "    </tr>\n",
              "    <tr>\n",
              "      <th>8</th>\n",
              "      <td>0</td>\n",
              "      <td>1467811795</td>\n",
              "      <td>Mon Apr 06 22:20:05 PDT 2009</td>\n",
              "      <td>NO_QUERY</td>\n",
              "      <td>2Hood4Hollywood</td>\n",
              "      <td>nope didnt</td>\n",
              "    </tr>\n",
              "    <tr>\n",
              "      <th>9</th>\n",
              "      <td>0</td>\n",
              "      <td>1467812025</td>\n",
              "      <td>Mon Apr 06 22:20:09 PDT 2009</td>\n",
              "      <td>NO_QUERY</td>\n",
              "      <td>mimismo</td>\n",
              "      <td>que muera</td>\n",
              "    </tr>\n",
              "    <tr>\n",
              "      <th>10</th>\n",
              "      <td>0</td>\n",
              "      <td>1467812416</td>\n",
              "      <td>Mon Apr 06 22:20:16 PDT 2009</td>\n",
              "      <td>NO_QUERY</td>\n",
              "      <td>erinx3leannexo</td>\n",
              "      <td>spring break plain city snowing</td>\n",
              "    </tr>\n",
              "    <tr>\n",
              "      <th>11</th>\n",
              "      <td>0</td>\n",
              "      <td>1467812579</td>\n",
              "      <td>Mon Apr 06 22:20:17 PDT 2009</td>\n",
              "      <td>NO_QUERY</td>\n",
              "      <td>pardonlauren</td>\n",
              "      <td>repierced ear</td>\n",
              "    </tr>\n",
              "    <tr>\n",
              "      <th>12</th>\n",
              "      <td>0</td>\n",
              "      <td>1467812723</td>\n",
              "      <td>Mon Apr 06 22:20:19 PDT 2009</td>\n",
              "      <td>NO_QUERY</td>\n",
              "      <td>TLeC</td>\n",
              "      <td>couldnt bear watch thought ua loss embarrassing</td>\n",
              "    </tr>\n",
              "    <tr>\n",
              "      <th>13</th>\n",
              "      <td>0</td>\n",
              "      <td>1467812771</td>\n",
              "      <td>Mon Apr 06 22:20:19 PDT 2009</td>\n",
              "      <td>NO_QUERY</td>\n",
              "      <td>robrobbierobert</td>\n",
              "      <td>count idk either never talk anymore</td>\n",
              "    </tr>\n",
              "    <tr>\n",
              "      <th>14</th>\n",
              "      <td>0</td>\n",
              "      <td>1467812784</td>\n",
              "      <td>Mon Apr 06 22:20:20 PDT 2009</td>\n",
              "      <td>NO_QUERY</td>\n",
              "      <td>bayofwolves</td>\n",
              "      <td>wouldve first didnt gun really though zac snyd...</td>\n",
              "    </tr>\n",
              "    <tr>\n",
              "      <th>15</th>\n",
              "      <td>0</td>\n",
              "      <td>1467812799</td>\n",
              "      <td>Mon Apr 06 22:20:20 PDT 2009</td>\n",
              "      <td>NO_QUERY</td>\n",
              "      <td>HairByJess</td>\n",
              "      <td>wish got watch miss premiere</td>\n",
              "    </tr>\n",
              "    <tr>\n",
              "      <th>16</th>\n",
              "      <td>0</td>\n",
              "      <td>1467812964</td>\n",
              "      <td>Mon Apr 06 22:20:22 PDT 2009</td>\n",
              "      <td>NO_QUERY</td>\n",
              "      <td>lovesongwriter</td>\n",
              "      <td>hollis death scene hurt severely watch film wr...</td>\n",
              "    </tr>\n",
              "    <tr>\n",
              "      <th>17</th>\n",
              "      <td>0</td>\n",
              "      <td>1467813137</td>\n",
              "      <td>Mon Apr 06 22:20:25 PDT 2009</td>\n",
              "      <td>NO_QUERY</td>\n",
              "      <td>armotley</td>\n",
              "      <td>file tax</td>\n",
              "    </tr>\n",
              "    <tr>\n",
              "      <th>18</th>\n",
              "      <td>0</td>\n",
              "      <td>1467813579</td>\n",
              "      <td>Mon Apr 06 22:20:31 PDT 2009</td>\n",
              "      <td>NO_QUERY</td>\n",
              "      <td>starkissed</td>\n",
              "      <td>ahh ive always wanted see rent love soundtrack</td>\n",
              "    </tr>\n",
              "    <tr>\n",
              "      <th>19</th>\n",
              "      <td>0</td>\n",
              "      <td>1467813782</td>\n",
              "      <td>Mon Apr 06 22:20:34 PDT 2009</td>\n",
              "      <td>NO_QUERY</td>\n",
              "      <td>gi_gi_bee</td>\n",
              "      <td>oh dear drinking forgotten table drink</td>\n",
              "    </tr>\n",
              "    <tr>\n",
              "      <th>20</th>\n",
              "      <td>0</td>\n",
              "      <td>1467813985</td>\n",
              "      <td>Mon Apr 06 22:20:37 PDT 2009</td>\n",
              "      <td>NO_QUERY</td>\n",
              "      <td>quanvu</td>\n",
              "      <td>day didnt get much done</td>\n",
              "    </tr>\n",
              "    <tr>\n",
              "      <th>21</th>\n",
              "      <td>0</td>\n",
              "      <td>1467813992</td>\n",
              "      <td>Mon Apr 06 22:20:38 PDT 2009</td>\n",
              "      <td>NO_QUERY</td>\n",
              "      <td>swinspeedx</td>\n",
              "      <td>one friend called asked meet mid valley todayb...</td>\n",
              "    </tr>\n",
              "    <tr>\n",
              "      <th>22</th>\n",
              "      <td>0</td>\n",
              "      <td>1467814119</td>\n",
              "      <td>Mon Apr 06 22:20:40 PDT 2009</td>\n",
              "      <td>NO_QUERY</td>\n",
              "      <td>cooliodoc</td>\n",
              "      <td>baked cake ated</td>\n",
              "    </tr>\n",
              "    <tr>\n",
              "      <th>23</th>\n",
              "      <td>0</td>\n",
              "      <td>1467814180</td>\n",
              "      <td>Mon Apr 06 22:20:40 PDT 2009</td>\n",
              "      <td>NO_QUERY</td>\n",
              "      <td>viJILLante</td>\n",
              "      <td>week going hoped</td>\n",
              "    </tr>\n",
              "    <tr>\n",
              "      <th>24</th>\n",
              "      <td>0</td>\n",
              "      <td>1467814192</td>\n",
              "      <td>Mon Apr 06 22:20:41 PDT 2009</td>\n",
              "      <td>NO_QUERY</td>\n",
              "      <td>Ljelli3166</td>\n",
              "      <td>blagh class 8 tomorrow</td>\n",
              "    </tr>\n",
              "  </tbody>\n",
              "</table>\n",
              "</div>\n",
              "    <div class=\"colab-df-buttons\">\n",
              "\n",
              "  <div class=\"colab-df-container\">\n",
              "    <button class=\"colab-df-convert\" onclick=\"convertToInteractive('df-73fb97fc-99ae-475e-8fe3-4c95971e5751')\"\n",
              "            title=\"Convert this dataframe to an interactive table.\"\n",
              "            style=\"display:none;\">\n",
              "\n",
              "  <svg xmlns=\"http://www.w3.org/2000/svg\" height=\"24px\" viewBox=\"0 -960 960 960\">\n",
              "    <path d=\"M120-120v-720h720v720H120Zm60-500h600v-160H180v160Zm220 220h160v-160H400v160Zm0 220h160v-160H400v160ZM180-400h160v-160H180v160Zm440 0h160v-160H620v160ZM180-180h160v-160H180v160Zm440 0h160v-160H620v160Z\"/>\n",
              "  </svg>\n",
              "    </button>\n",
              "\n",
              "  <style>\n",
              "    .colab-df-container {\n",
              "      display:flex;\n",
              "      gap: 12px;\n",
              "    }\n",
              "\n",
              "    .colab-df-convert {\n",
              "      background-color: #E8F0FE;\n",
              "      border: none;\n",
              "      border-radius: 50%;\n",
              "      cursor: pointer;\n",
              "      display: none;\n",
              "      fill: #1967D2;\n",
              "      height: 32px;\n",
              "      padding: 0 0 0 0;\n",
              "      width: 32px;\n",
              "    }\n",
              "\n",
              "    .colab-df-convert:hover {\n",
              "      background-color: #E2EBFA;\n",
              "      box-shadow: 0px 1px 2px rgba(60, 64, 67, 0.3), 0px 1px 3px 1px rgba(60, 64, 67, 0.15);\n",
              "      fill: #174EA6;\n",
              "    }\n",
              "\n",
              "    .colab-df-buttons div {\n",
              "      margin-bottom: 4px;\n",
              "    }\n",
              "\n",
              "    [theme=dark] .colab-df-convert {\n",
              "      background-color: #3B4455;\n",
              "      fill: #D2E3FC;\n",
              "    }\n",
              "\n",
              "    [theme=dark] .colab-df-convert:hover {\n",
              "      background-color: #434B5C;\n",
              "      box-shadow: 0px 1px 3px 1px rgba(0, 0, 0, 0.15);\n",
              "      filter: drop-shadow(0px 1px 2px rgba(0, 0, 0, 0.3));\n",
              "      fill: #FFFFFF;\n",
              "    }\n",
              "  </style>\n",
              "\n",
              "    <script>\n",
              "      const buttonEl =\n",
              "        document.querySelector('#df-73fb97fc-99ae-475e-8fe3-4c95971e5751 button.colab-df-convert');\n",
              "      buttonEl.style.display =\n",
              "        google.colab.kernel.accessAllowed ? 'block' : 'none';\n",
              "\n",
              "      async function convertToInteractive(key) {\n",
              "        const element = document.querySelector('#df-73fb97fc-99ae-475e-8fe3-4c95971e5751');\n",
              "        const dataTable =\n",
              "          await google.colab.kernel.invokeFunction('convertToInteractive',\n",
              "                                                    [key], {});\n",
              "        if (!dataTable) return;\n",
              "\n",
              "        const docLinkHtml = 'Like what you see? Visit the ' +\n",
              "          '<a target=\"_blank\" href=https://colab.research.google.com/notebooks/data_table.ipynb>data table notebook</a>'\n",
              "          + ' to learn more about interactive tables.';\n",
              "        element.innerHTML = '';\n",
              "        dataTable['output_type'] = 'display_data';\n",
              "        await google.colab.output.renderOutput(dataTable, element);\n",
              "        const docLink = document.createElement('div');\n",
              "        docLink.innerHTML = docLinkHtml;\n",
              "        element.appendChild(docLink);\n",
              "      }\n",
              "    </script>\n",
              "  </div>\n",
              "\n",
              "\n",
              "<div id=\"df-1ee6285f-eb46-42ea-8ba4-6876ab483e66\">\n",
              "  <button class=\"colab-df-quickchart\" onclick=\"quickchart('df-1ee6285f-eb46-42ea-8ba4-6876ab483e66')\"\n",
              "            title=\"Suggest charts\"\n",
              "            style=\"display:none;\">\n",
              "\n",
              "<svg xmlns=\"http://www.w3.org/2000/svg\" height=\"24px\"viewBox=\"0 0 24 24\"\n",
              "     width=\"24px\">\n",
              "    <g>\n",
              "        <path d=\"M19 3H5c-1.1 0-2 .9-2 2v14c0 1.1.9 2 2 2h14c1.1 0 2-.9 2-2V5c0-1.1-.9-2-2-2zM9 17H7v-7h2v7zm4 0h-2V7h2v10zm4 0h-2v-4h2v4z\"/>\n",
              "    </g>\n",
              "</svg>\n",
              "  </button>\n",
              "\n",
              "<style>\n",
              "  .colab-df-quickchart {\n",
              "      --bg-color: #E8F0FE;\n",
              "      --fill-color: #1967D2;\n",
              "      --hover-bg-color: #E2EBFA;\n",
              "      --hover-fill-color: #174EA6;\n",
              "      --disabled-fill-color: #AAA;\n",
              "      --disabled-bg-color: #DDD;\n",
              "  }\n",
              "\n",
              "  [theme=dark] .colab-df-quickchart {\n",
              "      --bg-color: #3B4455;\n",
              "      --fill-color: #D2E3FC;\n",
              "      --hover-bg-color: #434B5C;\n",
              "      --hover-fill-color: #FFFFFF;\n",
              "      --disabled-bg-color: #3B4455;\n",
              "      --disabled-fill-color: #666;\n",
              "  }\n",
              "\n",
              "  .colab-df-quickchart {\n",
              "    background-color: var(--bg-color);\n",
              "    border: none;\n",
              "    border-radius: 50%;\n",
              "    cursor: pointer;\n",
              "    display: none;\n",
              "    fill: var(--fill-color);\n",
              "    height: 32px;\n",
              "    padding: 0;\n",
              "    width: 32px;\n",
              "  }\n",
              "\n",
              "  .colab-df-quickchart:hover {\n",
              "    background-color: var(--hover-bg-color);\n",
              "    box-shadow: 0 1px 2px rgba(60, 64, 67, 0.3), 0 1px 3px 1px rgba(60, 64, 67, 0.15);\n",
              "    fill: var(--button-hover-fill-color);\n",
              "  }\n",
              "\n",
              "  .colab-df-quickchart-complete:disabled,\n",
              "  .colab-df-quickchart-complete:disabled:hover {\n",
              "    background-color: var(--disabled-bg-color);\n",
              "    fill: var(--disabled-fill-color);\n",
              "    box-shadow: none;\n",
              "  }\n",
              "\n",
              "  .colab-df-spinner {\n",
              "    border: 2px solid var(--fill-color);\n",
              "    border-color: transparent;\n",
              "    border-bottom-color: var(--fill-color);\n",
              "    animation:\n",
              "      spin 1s steps(1) infinite;\n",
              "  }\n",
              "\n",
              "  @keyframes spin {\n",
              "    0% {\n",
              "      border-color: transparent;\n",
              "      border-bottom-color: var(--fill-color);\n",
              "      border-left-color: var(--fill-color);\n",
              "    }\n",
              "    20% {\n",
              "      border-color: transparent;\n",
              "      border-left-color: var(--fill-color);\n",
              "      border-top-color: var(--fill-color);\n",
              "    }\n",
              "    30% {\n",
              "      border-color: transparent;\n",
              "      border-left-color: var(--fill-color);\n",
              "      border-top-color: var(--fill-color);\n",
              "      border-right-color: var(--fill-color);\n",
              "    }\n",
              "    40% {\n",
              "      border-color: transparent;\n",
              "      border-right-color: var(--fill-color);\n",
              "      border-top-color: var(--fill-color);\n",
              "    }\n",
              "    60% {\n",
              "      border-color: transparent;\n",
              "      border-right-color: var(--fill-color);\n",
              "    }\n",
              "    80% {\n",
              "      border-color: transparent;\n",
              "      border-right-color: var(--fill-color);\n",
              "      border-bottom-color: var(--fill-color);\n",
              "    }\n",
              "    90% {\n",
              "      border-color: transparent;\n",
              "      border-bottom-color: var(--fill-color);\n",
              "    }\n",
              "  }\n",
              "</style>\n",
              "\n",
              "  <script>\n",
              "    async function quickchart(key) {\n",
              "      const quickchartButtonEl =\n",
              "        document.querySelector('#' + key + ' button');\n",
              "      quickchartButtonEl.disabled = true;  // To prevent multiple clicks.\n",
              "      quickchartButtonEl.classList.add('colab-df-spinner');\n",
              "      try {\n",
              "        const charts = await google.colab.kernel.invokeFunction(\n",
              "            'suggestCharts', [key], {});\n",
              "      } catch (error) {\n",
              "        console.error('Error during call to suggestCharts:', error);\n",
              "      }\n",
              "      quickchartButtonEl.classList.remove('colab-df-spinner');\n",
              "      quickchartButtonEl.classList.add('colab-df-quickchart-complete');\n",
              "    }\n",
              "    (() => {\n",
              "      let quickchartButtonEl =\n",
              "        document.querySelector('#df-1ee6285f-eb46-42ea-8ba4-6876ab483e66 button');\n",
              "      quickchartButtonEl.style.display =\n",
              "        google.colab.kernel.accessAllowed ? 'block' : 'none';\n",
              "    })();\n",
              "  </script>\n",
              "</div>\n",
              "\n",
              "    </div>\n",
              "  </div>\n"
            ],
            "application/vnd.google.colaboratory.intrinsic+json": {
              "type": "dataframe",
              "variable_name": "data"
            }
          },
          "metadata": {},
          "execution_count": 15
        }
      ],
      "source": [
        "# Display the first 25 rows of the 'data' DataFrame\n",
        "data.head(25)"
      ]
    },
    {
      "cell_type": "code",
      "execution_count": null,
      "metadata": {
        "id": "K0GI4yWrGvFf"
      },
      "outputs": [],
      "source": [
        "# Import the train_test_split function from sklearn.model_selection module\n",
        "from sklearn.model_selection import train_test_split\n",
        "\n",
        "# # Split the data into training and testing sets\n",
        "X_train, X_test, y_train, y_test = train_test_split(data['text'], data['label'], test_size=0.2, random_state=42)\n",
        "\n",
        "# Transform the training and testing data using TF-IDF vectorizer\n",
        "X_train_tfidf = tfidf_vectorizer.fit_transform(X_train)\n",
        "X_test_tfidf = tfidf_vectorizer.transform(X_test)\n",
        "\n",
        "# Now X_train_tfidf and y_train are ready for training a model\n",
        "# X_test_tfidf and y_test are ready for evaluating the model"
      ]
    },
    {
      "cell_type": "code",
      "source": [
        "# Print the training set (X_train)\n",
        "print(X_train)"
      ],
      "metadata": {
        "colab": {
          "base_uri": "https://localhost:8080/"
        },
        "id": "wni5m8OeGsbp",
        "outputId": "18a9491c-5ba3-40dc-a3a7-2b540a69651a"
      },
      "execution_count": null,
      "outputs": [
        {
          "output_type": "stream",
          "name": "stdout",
          "text": [
            "1374558    ya quotid like palm pre touchstone charger rea...\n",
            "1389115            felt earthquake afternoon seems epicenter\n",
            "1137831                              ruffle shirt like likey\n",
            "790714     pretty bad night crappy morningfml buttface di...\n",
            "1117911                                      yeah clear view\n",
            "                                 ...                        \n",
            "259178           song middle change doesnt want born arghhhh\n",
            "1414414                                            good luck\n",
            "131932                                  rather average 32370\n",
            "671155     pickin waitin 2 hurry upi odeeee missed dem ta...\n",
            "121958           home studying math wooot im going fail shit\n",
            "Name: text, Length: 1280000, dtype: object\n"
          ]
        }
      ]
    },
    {
      "cell_type": "code",
      "execution_count": null,
      "metadata": {
        "colab": {
          "base_uri": "https://localhost:8080/"
        },
        "id": "pniHPrE7HMdZ",
        "outputId": "8c7552a8-f726-48df-a1f7-f96d0ad6efbb"
      },
      "outputs": [
        {
          "output_type": "stream",
          "name": "stdout",
          "text": [
            "  (0, 7889)\t0.32759188479929857\n",
            "  (0, 6422)\t0.3881024484093551\n",
            "  (0, 6977)\t0.23219669623753672\n",
            "  (0, 817)\t0.2983772470114568\n",
            "  (0, 3407)\t0.1580710558788188\n",
            "  (0, 7886)\t0.23792021565974972\n",
            "  (0, 9897)\t0.22032446174285752\n",
            "  (0, 1369)\t0.35888014944935853\n",
            "  (0, 6757)\t0.354414612666464\n",
            "  (0, 6421)\t0.35630263164197423\n",
            "  (0, 5045)\t0.1629924406244058\n",
            "  (0, 9837)\t0.2470984070163691\n",
            "  (1, 7488)\t0.43581051660455133\n",
            "  (1, 264)\t0.4503070821100366\n",
            "  (1, 2376)\t0.6076059840506352\n",
            "  (1, 2759)\t0.4879627993651548\n",
            "  (2, 5120)\t0.7614867304087967\n",
            "  (2, 7575)\t0.5723020639477514\n",
            "  (2, 5045)\t0.3043161300563355\n",
            "  (3, 9720)\t0.2757552057768895\n",
            "  (3, 3311)\t0.27027100109251867\n",
            "  (3, 1678)\t0.2884690496313551\n",
            "  (3, 2078)\t0.35138251333320425\n",
            "  (3, 706)\t0.3735859965788796\n",
            "  (3, 6779)\t0.35844186297480496\n",
            "  :\t:\n",
            "  (1279995, 7819)\t0.31507560516421473\n",
            "  (1279995, 2167)\t0.312677561648564\n",
            "  (1279995, 9309)\t0.2438710963866264\n",
            "  (1279996, 3439)\t0.6774704164303754\n",
            "  (1279996, 5380)\t0.6225077144011072\n",
            "  (1279996, 3407)\t0.39181370620840117\n",
            "  (1279997, 594)\t0.7968859062588387\n",
            "  (1279997, 6960)\t0.6041298307533153\n",
            "  (1279998, 2007)\t0.44025340091990817\n",
            "  (1279998, 9273)\t0.4039860933852968\n",
            "  (1279998, 8308)\t0.3712134810194207\n",
            "  (1279998, 4184)\t0.3781517471221023\n",
            "  (1279998, 2683)\t0.3478598285812962\n",
            "  (1279998, 5685)\t0.2640749891515403\n",
            "  (1279998, 8343)\t0.2753571606174638\n",
            "  (1279998, 1035)\t0.3092092509100915\n",
            "  (1279999, 3340)\t0.5133001342107283\n",
            "  (1279999, 8151)\t0.36559619532703547\n",
            "  (1279999, 2637)\t0.36673615117775904\n",
            "  (1279999, 5527)\t0.36835167619892734\n",
            "  (1279999, 4003)\t0.24047263995347062\n",
            "  (1279999, 4336)\t0.3066198989502135\n",
            "  (1279999, 3325)\t0.2157300903510835\n",
            "  (1279999, 7576)\t0.3264416842480958\n",
            "  (1279999, 4275)\t0.16654589201285674\n"
          ]
        }
      ],
      "source": [
        "# Print the TF-IDF transformed training set (X_train)\n",
        "print(X_train_tfidf)"
      ]
    },
    {
      "cell_type": "code",
      "execution_count": null,
      "metadata": {
        "colab": {
          "base_uri": "https://localhost:8080/"
        },
        "id": "SiEg1GJjH9fR",
        "outputId": "4c8e524c-c85a-4f31-e271-17638fd35899"
      },
      "outputs": [
        {
          "output_type": "stream",
          "name": "stdout",
          "text": [
            "  (0, 6248)\t0.39157176388928117\n",
            "  (0, 4079)\t0.6834473842592044\n",
            "  (0, 4054)\t0.3356907022110344\n",
            "  (0, 285)\t0.516607180673044\n",
            "  (1, 8997)\t0.4755417639171685\n",
            "  (1, 1647)\t0.4904283171726418\n",
            "  (1, 498)\t0.730301373739471\n",
            "  (2, 9527)\t0.2708286181491824\n",
            "  (2, 8671)\t0.14844818319071082\n",
            "  (2, 7721)\t0.3247175171659523\n",
            "  (2, 6029)\t0.26305831815570174\n",
            "  (2, 6019)\t0.19090953103704622\n",
            "  (2, 5045)\t0.14102664524412695\n",
            "  (2, 4790)\t0.15460152338848943\n",
            "  (2, 4761)\t0.32031702735679873\n",
            "  (2, 4240)\t0.3444685605898666\n",
            "  (2, 4235)\t0.17253097028228664\n",
            "  (2, 3755)\t0.25045405921610386\n",
            "  (2, 3686)\t0.34842518073749756\n",
            "  (2, 3682)\t0.18951942473126865\n",
            "  (2, 2659)\t0.2206786185152004\n",
            "  (2, 2287)\t0.2897145212969884\n",
            "  (2, 1193)\t0.2145465517628846\n",
            "  (3, 9654)\t0.2569382393347954\n",
            "  (3, 8159)\t0.29430901053404335\n",
            "  :\t:\n",
            "  (319995, 1290)\t0.7047842902355761\n",
            "  (319996, 9448)\t0.27743538836210824\n",
            "  (319996, 7586)\t0.3972063664346306\n",
            "  (319996, 6567)\t0.5101439466307142\n",
            "  (319996, 6566)\t0.3439417673595507\n",
            "  (319996, 1165)\t0.5224982472675379\n",
            "  (319996, 1161)\t0.3372083980747554\n",
            "  (319997, 8474)\t0.6021075184716199\n",
            "  (319997, 8455)\t0.2931039940889956\n",
            "  (319997, 6925)\t0.6103702828433418\n",
            "  (319997, 5132)\t0.42308947359957444\n",
            "  (319998, 9448)\t0.23205830735307204\n",
            "  (319998, 7604)\t0.23401427027042687\n",
            "  (319998, 7011)\t0.3438968669712289\n",
            "  (319998, 7000)\t0.19279495800183064\n",
            "  (319998, 3645)\t0.4122349555631247\n",
            "  (319998, 2530)\t0.24999562294304273\n",
            "  (319998, 2204)\t0.3734591030621285\n",
            "  (319998, 2200)\t0.1789498036498317\n",
            "  (319998, 1288)\t0.2907358571806812\n",
            "  (319998, 854)\t0.4363358379951141\n",
            "  (319998, 846)\t0.23896611939790557\n",
            "  (319999, 5132)\t0.580745989029258\n",
            "  (319999, 3218)\t0.525922880729075\n",
            "  (319999, 1102)\t0.6214010136393889\n"
          ]
        }
      ],
      "source": [
        "# Print the TF-IDF transformed testing set (X_train)\n",
        "print(X_test_tfidf)"
      ]
    },
    {
      "cell_type": "markdown",
      "metadata": {
        "id": "fUG9pxICICSJ"
      },
      "source": [
        "#4. Model Building"
      ]
    },
    {
      "cell_type": "markdown",
      "metadata": {
        "id": "RQwqH4H3IhQB"
      },
      "source": [
        "- Logistic Regression: It's a good starting point for text classification tasks.\n",
        "- Naive Bayes: Often performs well in text classification due to its assumption of independence among features.\n",
        "- Support Vector Machine (SVM): Can capture complex relationships between features.\n",
        "- Random Forest: An ensemble method that can capture non-linear patterns.\n",
        "- Stochastic Gradient Descent Classifier (SGDC) with Logistic Regression: SGDC is an optimization algorithm used to train logistic regression models.\n",
        "- Artificial Neural Network (ANN): A versatile model inspired by the structure and functioning of the human brain.\n",
        "\n",
        "For each model, we'll:\n",
        "\n",
        "- Instantiate the model.\n",
        "- Train it on the training set.\n",
        "- Predict sentiments on the test set.\n",
        "\n",
        "We'll use the preprocessed and vectorized data X_train_tfidf, X_test_tfidf, y_train, and y_test you have from the previous section."
      ]
    },
    {
      "cell_type": "code",
      "execution_count": null,
      "metadata": {
        "id": "GLHsP0ITIfaZ"
      },
      "outputs": [],
      "source": [
        "# Import the selected machine learning models for the project, and evaluation metrics like accuracy score and classification report.\n",
        "from sklearn.linear_model import LogisticRegression\n",
        "from sklearn.naive_bayes import MultinomialNB\n",
        "from sklearn.svm import LinearSVC\n",
        "from sklearn.ensemble import RandomForestClassifier\n",
        "from sklearn.ensemble import GradientBoostingClassifier\n",
        "from sklearn.metrics import accuracy_score, classification_report"
      ]
    },
    {
      "cell_type": "markdown",
      "metadata": {
        "id": "cZeb5DBNNMKM"
      },
      "source": [
        "##4.1. Logistic Regression"
      ]
    },
    {
      "cell_type": "code",
      "execution_count": null,
      "metadata": {
        "colab": {
          "base_uri": "https://localhost:8080/"
        },
        "id": "1mt9mHglJiV4",
        "outputId": "afcd701a-bc62-4713-c655-2ed955c56721"
      },
      "outputs": [
        {
          "output_type": "stream",
          "name": "stderr",
          "text": [
            "/usr/local/lib/python3.10/dist-packages/sklearn/linear_model/_logistic.py:458: ConvergenceWarning: lbfgs failed to converge (status=1):\n",
            "STOP: TOTAL NO. of ITERATIONS REACHED LIMIT.\n",
            "\n",
            "Increase the number of iterations (max_iter) or scale the data as shown in:\n",
            "    https://scikit-learn.org/stable/modules/preprocessing.html\n",
            "Please also refer to the documentation for alternative solver options:\n",
            "    https://scikit-learn.org/stable/modules/linear_model.html#logistic-regression\n",
            "  n_iter_i = _check_optimize_result(\n"
          ]
        },
        {
          "output_type": "stream",
          "name": "stdout",
          "text": [
            "Logistic Regression Accuracy: 0.784809375\n",
            "              precision    recall  f1-score   support\n",
            "\n",
            "           0       0.80      0.76      0.78    159494\n",
            "           4       0.77      0.81      0.79    160506\n",
            "\n",
            "    accuracy                           0.78    320000\n",
            "   macro avg       0.79      0.78      0.78    320000\n",
            "weighted avg       0.79      0.78      0.78    320000\n",
            "\n"
          ]
        }
      ],
      "source": [
        "# Logistic Regression\n",
        "# Instantiate the Logistic Regression model\n",
        "logreg = LogisticRegression(random_state=42)\n",
        "\n",
        "# Train the model\n",
        "logreg.fit(X_train_tfidf, y_train)\n",
        "\n",
        "# Predict on the test set\n",
        "logreg_pred = logreg.predict(X_test_tfidf)\n",
        "\n",
        "# Evaluate the model\n",
        "print(\"Logistic Regression Accuracy:\", accuracy_score(y_test, logreg_pred))\n",
        "\n",
        "# Detailed classification report\n",
        "print(classification_report(y_test, logreg_pred))"
      ]
    },
    {
      "cell_type": "markdown",
      "metadata": {
        "id": "F4RdXN32NYm5"
      },
      "source": [
        "##4.2. Naive Bayes"
      ]
    },
    {
      "cell_type": "code",
      "execution_count": null,
      "metadata": {
        "colab": {
          "base_uri": "https://localhost:8080/"
        },
        "id": "ydNoIKsSJrA-",
        "outputId": "79cbd5b8-4c7d-4fc7-a90e-dc5969ba4bb3"
      },
      "outputs": [
        {
          "output_type": "stream",
          "name": "stdout",
          "text": [
            "Naive Bayes Accuracy: 0.76741875\n",
            "              precision    recall  f1-score   support\n",
            "\n",
            "           0       0.76      0.77      0.77    159494\n",
            "           4       0.77      0.76      0.77    160506\n",
            "\n",
            "    accuracy                           0.77    320000\n",
            "   macro avg       0.77      0.77      0.77    320000\n",
            "weighted avg       0.77      0.77      0.77    320000\n",
            "\n"
          ]
        }
      ],
      "source": [
        "# Naive Bayes\n",
        "# Instantiate a Multinomial Naive Bayes model\n",
        "nb = MultinomialNB()\n",
        "\n",
        "# Train the model\n",
        "nb.fit(X_train_tfidf, y_train)\n",
        "\n",
        "# Predict on the test set\n",
        "nb_pred = nb.predict(X_test_tfidf)\n",
        "\n",
        "# Evaluate the model\n",
        "print(\"Naive Bayes Accuracy:\", accuracy_score(y_test, nb_pred))\n",
        "\n",
        "# Detailed classification report\n",
        "print(classification_report(y_test, nb_pred))"
      ]
    },
    {
      "cell_type": "markdown",
      "metadata": {
        "id": "YHolrJRsNcBu"
      },
      "source": [
        "##4.3. Linear Support Vector Machine"
      ]
    },
    {
      "cell_type": "code",
      "execution_count": null,
      "metadata": {
        "colab": {
          "base_uri": "https://localhost:8080/"
        },
        "id": "JRFCaFfIJxza",
        "outputId": "440a611a-b118-4546-f811-0b1d2cabbc49"
      },
      "outputs": [
        {
          "output_type": "stream",
          "name": "stdout",
          "text": [
            "LinearSVC Accuracy: 0.7838\n",
            "              precision    recall  f1-score   support\n",
            "\n",
            "           0       0.80      0.76      0.78    159494\n",
            "           4       0.77      0.81      0.79    160506\n",
            "\n",
            "    accuracy                           0.78    320000\n",
            "   macro avg       0.78      0.78      0.78    320000\n",
            "weighted avg       0.78      0.78      0.78    320000\n",
            "\n"
          ]
        }
      ],
      "source": [
        "# Linear Support Vector Machine\n",
        "svm_model = LinearSVC(random_state=42)\n",
        "svm_model.fit(X_train_tfidf, y_train)\n",
        "svm_pred = svm_model.predict(X_test_tfidf)\n",
        "print(\"LinearSVC Accuracy:\", accuracy_score(y_test, svm_pred))\n",
        "print(classification_report(y_test, svm_pred))"
      ]
    },
    {
      "cell_type": "markdown",
      "metadata": {
        "id": "HmW8NQl0NgOU"
      },
      "source": [
        "##4.4. Random Forest"
      ]
    },
    {
      "cell_type": "code",
      "execution_count": null,
      "metadata": {
        "colab": {
          "base_uri": "https://localhost:8080/"
        },
        "id": "b3qgUFvEJ7LI",
        "outputId": "cca85ced-f121-4d88-9f43-ff4b4ecc310b"
      },
      "outputs": [
        {
          "output_type": "stream",
          "name": "stdout",
          "text": [
            "RandomForest Accuracy: 0.707575\n",
            "              precision    recall  f1-score   support\n",
            "\n",
            "           0       0.77      0.60      0.67    159494\n",
            "           4       0.67      0.82      0.74    160506\n",
            "\n",
            "    accuracy                           0.71    320000\n",
            "   macro avg       0.72      0.71      0.70    320000\n",
            "weighted avg       0.72      0.71      0.70    320000\n",
            "\n"
          ]
        }
      ],
      "source": [
        "rf_model = RandomForestClassifier(max_depth=10, n_jobs=-1, random_state=42)\n",
        "rf_model.fit(X_train_tfidf, y_train)\n",
        "rf_pred = rf_model.predict(X_test_tfidf)\n",
        "print(\"RandomForest Accuracy:\", accuracy_score(y_test, rf_pred))\n",
        "print(classification_report(y_test, rf_pred))"
      ]
    },
    {
      "cell_type": "markdown",
      "source": [
        "##4.5 SGD Classifier with logistic regression setting"
      ],
      "metadata": {
        "id": "pajlmNOCrdEn"
      }
    },
    {
      "cell_type": "code",
      "source": [
        "from sklearn.linear_model import SGDClassifier\n",
        "from sklearn.metrics import accuracy_score, classification_report\n",
        "\n",
        "# Configure the SGDClassifier for Logistic Regression\n",
        "clf = SGDClassifier(loss='log', max_iter=1000, tol=1e-3, random_state=42)\n",
        "\n",
        "# Train the model\n",
        "clf.fit(X_train_tfidf, y_train)\n",
        "\n",
        "# Predict on the test set\n",
        "sgdc_pred = clf.predict(X_test_tfidf)\n",
        "\n",
        "# Evaluate the model\n",
        "accuracy = accuracy_score(y_test, sgdc_pred)\n",
        "print(f'Accuracy: {accuracy * 100:.2f}%')\n",
        "\n",
        "# Detailed classification report\n",
        "print(classification_report(y_test, sgdc_pred))\n"
      ],
      "metadata": {
        "colab": {
          "base_uri": "https://localhost:8080/"
        },
        "id": "5CpoMm1ArKPp",
        "outputId": "b560cea4-278f-4d16-8247-6cc0a37d5c01"
      },
      "execution_count": null,
      "outputs": [
        {
          "output_type": "stream",
          "name": "stderr",
          "text": [
            "/usr/local/lib/python3.10/dist-packages/sklearn/linear_model/_stochastic_gradient.py:163: FutureWarning: The loss 'log' was deprecated in v1.1 and will be removed in version 1.3. Use `loss='log_loss'` which is equivalent.\n",
            "  warnings.warn(\n"
          ]
        },
        {
          "output_type": "stream",
          "name": "stdout",
          "text": [
            "Accuracy: 76.46%\n",
            "              precision    recall  f1-score   support\n",
            "\n",
            "           0       0.78      0.74      0.76    159494\n",
            "           4       0.75      0.79      0.77    160506\n",
            "\n",
            "    accuracy                           0.76    320000\n",
            "   macro avg       0.77      0.76      0.76    320000\n",
            "weighted avg       0.77      0.76      0.76    320000\n",
            "\n"
          ]
        }
      ]
    },
    {
      "cell_type": "markdown",
      "source": [
        "##4.6. ANN"
      ],
      "metadata": {
        "id": "bOccLJvoeYQa"
      }
    },
    {
      "cell_type": "code",
      "source": [
        "# Import necessary libraries\n",
        "import pandas as pd\n",
        "import numpy as np\n",
        "from sklearn.neural_network import MLPClassifier\n",
        "from sklearn.model_selection import train_test_split, cross_val_score\n",
        "from sklearn.metrics import accuracy_score, classification_report, confusion_matrix, ConfusionMatrixDisplay"
      ],
      "metadata": {
        "id": "a9zKO47fee2z"
      },
      "execution_count": null,
      "outputs": []
    },
    {
      "cell_type": "code",
      "source": [
        "# Adjusting the model to potentially train faster\n",
        "mlp = MLPClassifier(\n",
        "    hidden_layer_sizes=(50,),  # Using a single hidden layer with fewer neurons\n",
        "    max_iter=50,  # Reduce the number of iterations\n",
        "    activation='relu',\n",
        "    solver='adam',  # Consider trying 'sgd' with a well-chosen learning rate for potentially faster training\n",
        "    batch_size=128,  # Increased batch size for faster epoch processing\n",
        "    early_stopping=True,  # Enable early stopping\n",
        "    n_iter_no_change=5,  # Number of iterations with no improvement to wait before stopping the training\n",
        "    random_state=42,\n",
        "    verbose=True\n",
        ")"
      ],
      "metadata": {
        "id": "cEfofPzMOcIx"
      },
      "execution_count": null,
      "outputs": []
    },
    {
      "cell_type": "code",
      "source": [
        "# Train the model\n",
        "mlp.fit(X_train_tfidf, y_train)"
      ],
      "metadata": {
        "colab": {
          "base_uri": "https://localhost:8080/",
          "height": 525
        },
        "id": "2hIW3FP0OjPf",
        "outputId": "eb14f750-74ff-43cf-c3a1-b7fa85420497"
      },
      "execution_count": null,
      "outputs": [
        {
          "output_type": "stream",
          "name": "stdout",
          "text": [
            "Iteration 1, loss = 0.46775585\n",
            "Validation score: 0.783750\n",
            "Iteration 2, loss = 0.45060487\n",
            "Validation score: 0.786320\n",
            "Iteration 3, loss = 0.44536639\n",
            "Validation score: 0.787234\n",
            "Iteration 4, loss = 0.44044982\n",
            "Validation score: 0.788258\n",
            "Iteration 5, loss = 0.43448890\n",
            "Validation score: 0.788328\n",
            "Iteration 6, loss = 0.42776245\n",
            "Validation score: 0.788555\n",
            "Iteration 7, loss = 0.42040834\n",
            "Validation score: 0.788516\n",
            "Iteration 8, loss = 0.41216667\n",
            "Validation score: 0.787297\n",
            "Iteration 9, loss = 0.40355424\n",
            "Validation score: 0.784906\n",
            "Iteration 10, loss = 0.39425909\n",
            "Validation score: 0.784219\n",
            "Iteration 11, loss = 0.38389309\n",
            "Validation score: 0.781680\n",
            "Iteration 12, loss = 0.37404325\n",
            "Validation score: 0.779484\n",
            "Validation score did not improve more than tol=0.000100 for 5 consecutive epochs. Stopping.\n"
          ]
        },
        {
          "output_type": "execute_result",
          "data": {
            "text/plain": [
              "MLPClassifier(batch_size=128, early_stopping=True, hidden_layer_sizes=(50,),\n",
              "              max_iter=50, n_iter_no_change=5, random_state=42, verbose=True)"
            ],
            "text/html": [
              "<style>#sk-container-id-1 {color: black;background-color: white;}#sk-container-id-1 pre{padding: 0;}#sk-container-id-1 div.sk-toggleable {background-color: white;}#sk-container-id-1 label.sk-toggleable__label {cursor: pointer;display: block;width: 100%;margin-bottom: 0;padding: 0.3em;box-sizing: border-box;text-align: center;}#sk-container-id-1 label.sk-toggleable__label-arrow:before {content: \"▸\";float: left;margin-right: 0.25em;color: #696969;}#sk-container-id-1 label.sk-toggleable__label-arrow:hover:before {color: black;}#sk-container-id-1 div.sk-estimator:hover label.sk-toggleable__label-arrow:before {color: black;}#sk-container-id-1 div.sk-toggleable__content {max-height: 0;max-width: 0;overflow: hidden;text-align: left;background-color: #f0f8ff;}#sk-container-id-1 div.sk-toggleable__content pre {margin: 0.2em;color: black;border-radius: 0.25em;background-color: #f0f8ff;}#sk-container-id-1 input.sk-toggleable__control:checked~div.sk-toggleable__content {max-height: 200px;max-width: 100%;overflow: auto;}#sk-container-id-1 input.sk-toggleable__control:checked~label.sk-toggleable__label-arrow:before {content: \"▾\";}#sk-container-id-1 div.sk-estimator input.sk-toggleable__control:checked~label.sk-toggleable__label {background-color: #d4ebff;}#sk-container-id-1 div.sk-label input.sk-toggleable__control:checked~label.sk-toggleable__label {background-color: #d4ebff;}#sk-container-id-1 input.sk-hidden--visually {border: 0;clip: rect(1px 1px 1px 1px);clip: rect(1px, 1px, 1px, 1px);height: 1px;margin: -1px;overflow: hidden;padding: 0;position: absolute;width: 1px;}#sk-container-id-1 div.sk-estimator {font-family: monospace;background-color: #f0f8ff;border: 1px dotted black;border-radius: 0.25em;box-sizing: border-box;margin-bottom: 0.5em;}#sk-container-id-1 div.sk-estimator:hover {background-color: #d4ebff;}#sk-container-id-1 div.sk-parallel-item::after {content: \"\";width: 100%;border-bottom: 1px solid gray;flex-grow: 1;}#sk-container-id-1 div.sk-label:hover label.sk-toggleable__label {background-color: #d4ebff;}#sk-container-id-1 div.sk-serial::before {content: \"\";position: absolute;border-left: 1px solid gray;box-sizing: border-box;top: 0;bottom: 0;left: 50%;z-index: 0;}#sk-container-id-1 div.sk-serial {display: flex;flex-direction: column;align-items: center;background-color: white;padding-right: 0.2em;padding-left: 0.2em;position: relative;}#sk-container-id-1 div.sk-item {position: relative;z-index: 1;}#sk-container-id-1 div.sk-parallel {display: flex;align-items: stretch;justify-content: center;background-color: white;position: relative;}#sk-container-id-1 div.sk-item::before, #sk-container-id-1 div.sk-parallel-item::before {content: \"\";position: absolute;border-left: 1px solid gray;box-sizing: border-box;top: 0;bottom: 0;left: 50%;z-index: -1;}#sk-container-id-1 div.sk-parallel-item {display: flex;flex-direction: column;z-index: 1;position: relative;background-color: white;}#sk-container-id-1 div.sk-parallel-item:first-child::after {align-self: flex-end;width: 50%;}#sk-container-id-1 div.sk-parallel-item:last-child::after {align-self: flex-start;width: 50%;}#sk-container-id-1 div.sk-parallel-item:only-child::after {width: 0;}#sk-container-id-1 div.sk-dashed-wrapped {border: 1px dashed gray;margin: 0 0.4em 0.5em 0.4em;box-sizing: border-box;padding-bottom: 0.4em;background-color: white;}#sk-container-id-1 div.sk-label label {font-family: monospace;font-weight: bold;display: inline-block;line-height: 1.2em;}#sk-container-id-1 div.sk-label-container {text-align: center;}#sk-container-id-1 div.sk-container {/* jupyter's `normalize.less` sets `[hidden] { display: none; }` but bootstrap.min.css set `[hidden] { display: none !important; }` so we also need the `!important` here to be able to override the default hidden behavior on the sphinx rendered scikit-learn.org. See: https://github.com/scikit-learn/scikit-learn/issues/21755 */display: inline-block !important;position: relative;}#sk-container-id-1 div.sk-text-repr-fallback {display: none;}</style><div id=\"sk-container-id-1\" class=\"sk-top-container\"><div class=\"sk-text-repr-fallback\"><pre>MLPClassifier(batch_size=128, early_stopping=True, hidden_layer_sizes=(50,),\n",
              "              max_iter=50, n_iter_no_change=5, random_state=42, verbose=True)</pre><b>In a Jupyter environment, please rerun this cell to show the HTML representation or trust the notebook. <br />On GitHub, the HTML representation is unable to render, please try loading this page with nbviewer.org.</b></div><div class=\"sk-container\" hidden><div class=\"sk-item\"><div class=\"sk-estimator sk-toggleable\"><input class=\"sk-toggleable__control sk-hidden--visually\" id=\"sk-estimator-id-1\" type=\"checkbox\" checked><label for=\"sk-estimator-id-1\" class=\"sk-toggleable__label sk-toggleable__label-arrow\">MLPClassifier</label><div class=\"sk-toggleable__content\"><pre>MLPClassifier(batch_size=128, early_stopping=True, hidden_layer_sizes=(50,),\n",
              "              max_iter=50, n_iter_no_change=5, random_state=42, verbose=True)</pre></div></div></div></div></div>"
            ]
          },
          "metadata": {},
          "execution_count": 38
        }
      ]
    },
    {
      "cell_type": "code",
      "source": [
        "# Evaluate the model on the test set\n",
        "y_pred = mlp.predict(X_test_tfidf)\n",
        "accuracy = accuracy_score(y_test, y_pred)\n",
        "print('Accuracy:', accuracy)\n",
        "print(classification_report(y_test, y_pred))"
      ],
      "metadata": {
        "colab": {
          "base_uri": "https://localhost:8080/"
        },
        "id": "Uq8zuH9RO7Jr",
        "outputId": "a24356b4-5d75-4835-b077-60e4b817e0ae"
      },
      "execution_count": null,
      "outputs": [
        {
          "output_type": "stream",
          "name": "stdout",
          "text": [
            "Accuracy: 0.505371875\n",
            "              precision    recall  f1-score   support\n",
            "\n",
            "           0       0.50      0.45      0.48    159494\n",
            "           4       0.51      0.56      0.53    160506\n",
            "\n",
            "    accuracy                           0.51    320000\n",
            "   macro avg       0.51      0.51      0.50    320000\n",
            "weighted avg       0.51      0.51      0.50    320000\n",
            "\n"
          ]
        }
      ]
    },
    {
      "cell_type": "markdown",
      "source": [
        "##4.7. VADER Lexicon"
      ],
      "metadata": {
        "id": "3EMdKtMxNgBw"
      }
    },
    {
      "cell_type": "code",
      "source": [
        "# Download the VADER lexicon from NLTK\n",
        "import nltk\n",
        "nltk.download('vader_lexicon')"
      ],
      "metadata": {
        "id": "-rD5xjkjN9iV",
        "colab": {
          "base_uri": "https://localhost:8080/"
        },
        "outputId": "79ba6636-753a-42b3-8b25-10bbbc6d8052"
      },
      "execution_count": null,
      "outputs": [
        {
          "output_type": "stream",
          "name": "stderr",
          "text": [
            "[nltk_data] Downloading package vader_lexicon to /root/nltk_data...\n"
          ]
        },
        {
          "output_type": "execute_result",
          "data": {
            "text/plain": [
              "True"
            ]
          },
          "metadata": {},
          "execution_count": 19
        }
      ]
    },
    {
      "cell_type": "code",
      "source": [
        "# Import the SentimentIntensityAnalyzer class from NLTK's VADER module\n",
        "!pip install vaderSentiment\n",
        "from vaderSentiment.vaderSentiment import SentimentIntensityAnalyzer\n",
        "from nltk.sentiment.vader import SentimentIntensityAnalyzer"
      ],
      "metadata": {
        "id": "iEOjqPzOOAzp",
        "colab": {
          "base_uri": "https://localhost:8080/"
        },
        "outputId": "2cd427ab-9a93-4151-884d-c24c32a09451"
      },
      "execution_count": null,
      "outputs": [
        {
          "output_type": "stream",
          "name": "stdout",
          "text": [
            "Collecting vaderSentiment\n",
            "  Downloading vaderSentiment-3.3.2-py2.py3-none-any.whl (125 kB)\n",
            "\u001b[?25l     \u001b[90m━━━━━━━━━━━━━━━━━━━━━━━━━━━━━━━━━━━━━━━━\u001b[0m \u001b[32m0.0/126.0 kB\u001b[0m \u001b[31m?\u001b[0m eta \u001b[36m-:--:--\u001b[0m\r\u001b[2K     \u001b[90m━━━━━━━━━━━━━━━━━━━━━━━━━━━━━━━━━━━━━━━━\u001b[0m \u001b[32m126.0/126.0 kB\u001b[0m \u001b[31m3.6 MB/s\u001b[0m eta \u001b[36m0:00:00\u001b[0m\n",
            "\u001b[?25hRequirement already satisfied: requests in /usr/local/lib/python3.10/dist-packages (from vaderSentiment) (2.31.0)\n",
            "Requirement already satisfied: charset-normalizer<4,>=2 in /usr/local/lib/python3.10/dist-packages (from requests->vaderSentiment) (3.3.2)\n",
            "Requirement already satisfied: idna<4,>=2.5 in /usr/local/lib/python3.10/dist-packages (from requests->vaderSentiment) (3.6)\n",
            "Requirement already satisfied: urllib3<3,>=1.21.1 in /usr/local/lib/python3.10/dist-packages (from requests->vaderSentiment) (2.0.7)\n",
            "Requirement already satisfied: certifi>=2017.4.17 in /usr/local/lib/python3.10/dist-packages (from requests->vaderSentiment) (2024.2.2)\n",
            "Installing collected packages: vaderSentiment\n",
            "Successfully installed vaderSentiment-3.3.2\n"
          ]
        }
      ]
    },
    {
      "cell_type": "code",
      "source": [
        "# Initialize VADER sentiment analyzer\n",
        "analyzer = SentimentIntensityAnalyzer()"
      ],
      "metadata": {
        "id": "sLQU-31TODQ5"
      },
      "execution_count": null,
      "outputs": []
    },
    {
      "cell_type": "code",
      "source": [
        "'''\n",
        "Perform sentiment analysis using VADER lexicon on text data stored in a DataFrame.\n",
        "\n",
        "    Parameters:\n",
        "        data (DataFrame): DataFrame containing the text data.\n",
        "        text_column (str): Name of the column containing the text data. Default is 'text'.\n",
        "        threshold (float): Threshold value used to determine final sentiment. Default is 0.1.\n",
        "        verbose (bool): Whether to display detailed sentiment statistics. Default is False.\n",
        "'''\n",
        "def analyze_sentiment_vader_lexicon(data, text_column='text', threshold=0.1, verbose=False):\n",
        "\n",
        "    # Analyze sentiment for each text\n",
        "    sentiments = []\n",
        "    for text in data[text_column]:\n",
        "        scores = analyzer.polarity_scores(text)  # Assuming 'analyzer' is already defined outside this function\n",
        "        agg_score = scores['compound']\n",
        "        final_sentiment = 'positive' if agg_score >= threshold else 'negative'\n",
        "        sentiments.append(final_sentiment)\n",
        "\n",
        "    # Add 'sentiment' column to DataFrame\n",
        "    data['sentiment'] = sentiments\n",
        "\n",
        "    # Display detailed sentiment statistics if verbose is True\n",
        "    if verbose:\n",
        "        sentiment_stats = []\n",
        "        for text in data[text_column]:\n",
        "            scores = analyzer.polarity_scores(text)  # Assuming 'analyzer' is already defined outside this function\n",
        "            positive = round(scores['pos'] * 100, 2)\n",
        "            negative = round(scores['neg'] * 100, 2)\n",
        "            sentiment_stats.append((positive, negative))\n",
        "\n",
        "        sentiment_stats_df = pd.DataFrame(sentiment_stats, columns=['Positive', 'Negative'])\n",
        "        data = pd.concat([data, sentiment_stats_df], axis=1)\n",
        "\n",
        "    return data"
      ],
      "metadata": {
        "id": "2403zs-eORuj"
      },
      "execution_count": null,
      "outputs": []
    },
    {
      "cell_type": "code",
      "source": [
        "# Predict sentiment for each text in the DataFrame using VADER lexicon with custom threshold\n",
        "predicted_sentiments = analyze_sentiment_vader_lexicon(data, text_column='text', threshold=0.4, verbose=False)"
      ],
      "metadata": {
        "id": "kv9dfHTD7yst"
      },
      "execution_count": null,
      "outputs": []
    },
    {
      "cell_type": "code",
      "source": [
        "#Import the model evaluation utilities module\n",
        "import model_evaluation_utils as meu"
      ],
      "metadata": {
        "id": "RYc1XATEO-4G"
      },
      "execution_count": null,
      "outputs": []
    },
    {
      "cell_type": "code",
      "source": [
        "#Extract sentiment labels from the dataframe\n",
        "test_sentiments = data['label']\n",
        "\n",
        "# Convert sentiment labels to match the format (0 for negative, 4 for positive)\n",
        "predicted_sentiments['predicted_label'] = predicted_sentiments['sentiment'].map({'negative': 0, 'positive': 4})\n",
        "\n",
        "# Display model performance metrics\n",
        "meu.display_model_performance_metrics(true_labels=test_sentiments, predicted_labels=predicted_sentiments['predicted_label'], classes=[0, 4])"
      ],
      "metadata": {
        "id": "makM-dHlPBGS",
        "colab": {
          "base_uri": "https://localhost:8080/",
          "height": 703
        },
        "outputId": "c57fa596-c09d-463a-da27-b436b887af9e"
      },
      "execution_count": null,
      "outputs": [
        {
          "output_type": "stream",
          "name": "stdout",
          "text": [
            "Model Performance metrics:\n",
            "------------------------------\n",
            "Accuracy: 0.6439\n",
            "Precision: 0.6576\n",
            "Recall: 0.6439\n",
            "F1 Score: 0.6361\n",
            "\n",
            "Model Classification report:\n",
            "------------------------------\n",
            "              precision    recall  f1-score   support\n",
            "\n",
            "           0       0.61      0.79      0.69    800000\n",
            "           4       0.70      0.50      0.58    800000\n",
            "\n",
            "    accuracy                           0.64   1600000\n",
            "   macro avg       0.66      0.64      0.64   1600000\n",
            "weighted avg       0.66      0.64      0.64   1600000\n",
            "\n",
            "\n",
            "Prediction Confusion Matrix:\n",
            "------------------------------\n"
          ]
        },
        {
          "output_type": "error",
          "ename": "TypeError",
          "evalue": "MultiIndex.__new__() got an unexpected keyword argument 'labels'",
          "traceback": [
            "\u001b[0;31m---------------------------------------------------------------------------\u001b[0m",
            "\u001b[0;31mTypeError\u001b[0m                                 Traceback (most recent call last)",
            "\u001b[0;32m<ipython-input-27-6a52e652922b>\u001b[0m in \u001b[0;36m<cell line: 8>\u001b[0;34m()\u001b[0m\n\u001b[1;32m      6\u001b[0m \u001b[0;34m\u001b[0m\u001b[0m\n\u001b[1;32m      7\u001b[0m \u001b[0;31m# Display model performance metrics\u001b[0m\u001b[0;34m\u001b[0m\u001b[0;34m\u001b[0m\u001b[0m\n\u001b[0;32m----> 8\u001b[0;31m \u001b[0mmeu\u001b[0m\u001b[0;34m.\u001b[0m\u001b[0mdisplay_model_performance_metrics\u001b[0m\u001b[0;34m(\u001b[0m\u001b[0mtrue_labels\u001b[0m\u001b[0;34m=\u001b[0m\u001b[0mtest_sentiments\u001b[0m\u001b[0;34m,\u001b[0m \u001b[0mpredicted_labels\u001b[0m\u001b[0;34m=\u001b[0m\u001b[0mpredicted_sentiments\u001b[0m\u001b[0;34m[\u001b[0m\u001b[0;34m'predicted_label'\u001b[0m\u001b[0;34m]\u001b[0m\u001b[0;34m,\u001b[0m \u001b[0mclasses\u001b[0m\u001b[0;34m=\u001b[0m\u001b[0;34m[\u001b[0m\u001b[0;36m0\u001b[0m\u001b[0;34m,\u001b[0m \u001b[0;36m4\u001b[0m\u001b[0;34m]\u001b[0m\u001b[0;34m)\u001b[0m\u001b[0;34m\u001b[0m\u001b[0;34m\u001b[0m\u001b[0m\n\u001b[0m",
            "\u001b[0;32m/content/model_evaluation_utils.py\u001b[0m in \u001b[0;36mdisplay_model_performance_metrics\u001b[0;34m(true_labels, predicted_labels, classes)\u001b[0m\n\u001b[1;32m     93\u001b[0m     \u001b[0mprint\u001b[0m\u001b[0;34m(\u001b[0m\u001b[0;34m'\\nPrediction Confusion Matrix:'\u001b[0m\u001b[0;34m)\u001b[0m\u001b[0;34m\u001b[0m\u001b[0;34m\u001b[0m\u001b[0m\n\u001b[1;32m     94\u001b[0m     \u001b[0mprint\u001b[0m\u001b[0;34m(\u001b[0m\u001b[0;34m'-'\u001b[0m\u001b[0;34m*\u001b[0m\u001b[0;36m30\u001b[0m\u001b[0;34m)\u001b[0m\u001b[0;34m\u001b[0m\u001b[0;34m\u001b[0m\u001b[0m\n\u001b[0;32m---> 95\u001b[0;31m     display_confusion_matrix(true_labels=true_labels, predicted_labels=predicted_labels, \n\u001b[0m\u001b[1;32m     96\u001b[0m                              classes=classes)\n\u001b[1;32m     97\u001b[0m \u001b[0;34m\u001b[0m\u001b[0m\n",
            "\u001b[0;32m/content/model_evaluation_utils.py\u001b[0m in \u001b[0;36mdisplay_confusion_matrix\u001b[0;34m(true_labels, predicted_labels, classes)\u001b[0m\n\u001b[1;32m     53\u001b[0m                                   labels=classes)\n\u001b[1;32m     54\u001b[0m     cm_frame = pd.DataFrame(data=cm, \n\u001b[0;32m---> 55\u001b[0;31m                             columns=pd.MultiIndex(levels=[['Predicted:'], classes], \n\u001b[0m\u001b[1;32m     56\u001b[0m                                                   labels=level_labels), \n\u001b[1;32m     57\u001b[0m                             index=pd.MultiIndex(levels=[['Actual:'], classes], \n",
            "\u001b[0;31mTypeError\u001b[0m: MultiIndex.__new__() got an unexpected keyword argument 'labels'"
          ]
        }
      ]
    },
    {
      "cell_type": "markdown",
      "source": [
        "# SentiWordNet"
      ],
      "metadata": {
        "id": "jo4b2eCz9z2H"
      }
    },
    {
      "cell_type": "code",
      "source": [
        "import nltk\n",
        "nltk.download('sentiwordnet')\n",
        "nltk.download('wordnet')\n",
        "from nltk.corpus import wordnet as wn\n",
        "from nltk.corpus import sentiwordnet as swn\n",
        "from nltk.tag import pos_tag\n",
        "from nltk.stem import WordNetLemmatizer\n",
        "import pandas as pd\n",
        "import nltk\n",
        "nltk.download('averaged_perceptron_tagger')"
      ],
      "metadata": {
        "id": "YFk1LflX91N9"
      },
      "execution_count": null,
      "outputs": []
    },
    {
      "cell_type": "code",
      "source": [
        "def penn_to_wn(tag):\n",
        "    \"\"\"\n",
        "    Convert between the PennTreebank tags to simple Wordnet tags\n",
        "    \"\"\"\n",
        "    if tag.startswith('J'):\n",
        "        return wn.ADJ\n",
        "    elif tag.startswith('N'):\n",
        "        return wn.NOUN\n",
        "    elif tag.startswith('R'):\n",
        "        return wn.ADV\n",
        "    elif tag.startswith('V'):\n",
        "        return wn.VERB\n",
        "    return None"
      ],
      "metadata": {
        "id": "9-d7rkt7P_aA"
      },
      "execution_count": null,
      "outputs": []
    },
    {
      "cell_type": "code",
      "source": [
        "def analyze_sentiment(sentence):\n",
        "    sentiment = 0.0\n",
        "    lemmatizer = WordNetLemmatizer()\n",
        "    token = nltk.word_tokenize(sentence)\n",
        "    after_tagging = nltk.pos_tag(token)\n",
        "    for word, tag in after_tagging:\n",
        "        wn_tag = penn_to_wn(tag)\n",
        "        if wn_tag not in (wn.NOUN, wn.ADJ, wn.ADV):\n",
        "            continue\n",
        "\n",
        "        lemma = lemmatizer.lemmatize(word, pos=wn_tag)\n",
        "        if not lemma:\n",
        "            continue\n",
        "\n",
        "        synsets = wn.synsets(lemma, pos=wn_tag)\n",
        "        if not synsets:\n",
        "            continue\n",
        "\n",
        "        # Take the first sense, the most common\n",
        "        synset = synsets[0]\n",
        "        swn_synset = swn.senti_synset(synset.name())\n",
        "\n",
        "        sentiment += swn_synset.pos_score() - swn_synset.neg_score()\n",
        "\n",
        "    return 'positive' if sentiment >= 0 else 'negative'"
      ],
      "metadata": {
        "id": "JPlM74ZXQBzG"
      },
      "execution_count": null,
      "outputs": []
    },
    {
      "cell_type": "code",
      "source": [
        "# Load and preprocess your dataset\n",
        "data['predicted_sentiment'] = data['text'].apply(analyze_sentiment)\n",
        "\n",
        "# Convert sentiment labels to match the format (0 for negative, 4 for positive)\n",
        "data['predicted_label'] = data['predicted_sentiment'].map({'negative': 0, 'positive': 4})\n",
        "\n",
        "# Extract sentiment labels from the dataframe\n",
        "test_sentiments = data['label']"
      ],
      "metadata": {
        "id": "X5u8FsP7QDsd"
      },
      "execution_count": null,
      "outputs": []
    },
    {
      "cell_type": "code",
      "source": [
        "# Converts PennTreebank part-of-speech (POS) tags to corresponding WordNet POS tags.\n",
        "from sklearn.metrics import accuracy_score, precision_score, recall_score, f1_score\n",
        "\n",
        "def display_model_performance_metrics(true_labels, predicted_labels, classes=[0, 4]):\n",
        "    print(\"Accuracy:\", accuracy_score(true_labels, predicted_labels))\n",
        "    print(\"Precision:\", precision_score(true_labels, predicted_labels, average='weighted', labels=classes))\n",
        "    print(\"Recall:\", recall_score(true_labels, predicted_labels, average='weighted', labels=classes))\n",
        "    print(\"F1 Score:\", f1_score(true_labels, predicted_labels, average='weighted', labels=classes))\n",
        "\n",
        "# Assuming you've already analyzed the sentiment and stored it in the 'predicted_label' column\n",
        "test_sentiments = data['label']\n",
        "predicted_sentiments = data['predicted_label']\n",
        "\n",
        "# Display model performance metrics\n",
        "display_model_performance_metrics(true_labels=test_sentiments, predicted_labels=predicted_sentiments)"
      ],
      "metadata": {
        "id": "BuNBQqBjQFRt"
      },
      "execution_count": null,
      "outputs": []
    },
    {
      "cell_type": "code",
      "source": [
        "# Convert sentiment labels to match the format (0 for negative, 4 for positive)\n",
        "data['predicted_label'] = data['predicted_sentiment'].map({'negative': 0, 'positive': 4})\n",
        "\n",
        "# Extract sentiment labels from the dataframe\n",
        "true_labels = data['label']\n",
        "predicted_labels = data['predicted_label']\n",
        "\n",
        "# Print classification report\n",
        "print(classification_report(true_labels, predicted_labels))"
      ],
      "metadata": {
        "id": "NvyzZeYjQLgf"
      },
      "execution_count": null,
      "outputs": []
    },
    {
      "cell_type": "markdown",
      "metadata": {
        "id": "WphXuwSnTN5s"
      },
      "source": [
        "#5. Model Evaluation"
      ]
    },
    {
      "cell_type": "code",
      "source": [
        "from sklearn.metrics import accuracy_score, precision_score, recall_score, f1_score\n",
        "import pandas as pd\n",
        "\n",
        "# Dictionary to hold the performance metrics\n",
        "model_performance = {}\n",
        "\n",
        "# List of model predictions for iteration\n",
        "predictions = [\n",
        "    ('Logistic Regression', logreg_pred),\n",
        "    ('Naive Bayes', nb_pred),\n",
        "    ('LinearSVC', svm_pred),\n",
        "    ('Random Forest', rf_pred),\n",
        "    ('SGDC Classifier', sgdc_pred),\n",
        "    ('Artificial Neural Network', y_pred)\n",
        "    ]\n",
        "\n",
        "# Calculate metrics for each model\n",
        "for model_name, model_pred in predictions:\n",
        "    model_performance[model_name] = {\n",
        "        'Accuracy': accuracy_score(y_test, model_pred),\n",
        "        'Precision': precision_score(y_test, model_pred, average='weighted'),\n",
        "        'Recall': recall_score(y_test, model_pred, average='weighted'),\n",
        "        'F1 Score': f1_score(y_test, model_pred, average='weighted')\n",
        "    }\n",
        "\n",
        "# Convert the dictionary to a DataFrame for better visualization\n",
        "performance_df = pd.DataFrame(model_performance).T\n",
        "performance_df\n"
      ],
      "metadata": {
        "colab": {
          "base_uri": "https://localhost:8080/",
          "height": 237
        },
        "id": "PkXLNqZZvEkC",
        "outputId": "306bb391-f7dd-406f-9f9c-e980dd3a0045"
      },
      "execution_count": null,
      "outputs": [
        {
          "output_type": "execute_result",
          "data": {
            "text/plain": [
              "                           Accuracy  Precision    Recall  F1 Score\n",
              "Logistic Regression        0.784809   0.785343  0.784809  0.784688\n",
              "Naive Bayes                0.767419   0.767464  0.767419  0.767415\n",
              "LinearSVC                  0.783800   0.784598  0.783800  0.783623\n",
              "Random Forest              0.707575   0.718027  0.707575  0.703857\n",
              "SGDC Classifier            0.764572   0.765124  0.764572  0.764424\n",
              "Artificial Neural Network  0.788913   0.788917  0.788913  0.788909"
            ],
            "text/html": [
              "\n",
              "  <div id=\"df-8ac7e13d-0a32-491e-98f3-f27c8af94bc2\" class=\"colab-df-container\">\n",
              "    <div>\n",
              "<style scoped>\n",
              "    .dataframe tbody tr th:only-of-type {\n",
              "        vertical-align: middle;\n",
              "    }\n",
              "\n",
              "    .dataframe tbody tr th {\n",
              "        vertical-align: top;\n",
              "    }\n",
              "\n",
              "    .dataframe thead th {\n",
              "        text-align: right;\n",
              "    }\n",
              "</style>\n",
              "<table border=\"1\" class=\"dataframe\">\n",
              "  <thead>\n",
              "    <tr style=\"text-align: right;\">\n",
              "      <th></th>\n",
              "      <th>Accuracy</th>\n",
              "      <th>Precision</th>\n",
              "      <th>Recall</th>\n",
              "      <th>F1 Score</th>\n",
              "    </tr>\n",
              "  </thead>\n",
              "  <tbody>\n",
              "    <tr>\n",
              "      <th>Logistic Regression</th>\n",
              "      <td>0.784809</td>\n",
              "      <td>0.785343</td>\n",
              "      <td>0.784809</td>\n",
              "      <td>0.784688</td>\n",
              "    </tr>\n",
              "    <tr>\n",
              "      <th>Naive Bayes</th>\n",
              "      <td>0.767419</td>\n",
              "      <td>0.767464</td>\n",
              "      <td>0.767419</td>\n",
              "      <td>0.767415</td>\n",
              "    </tr>\n",
              "    <tr>\n",
              "      <th>LinearSVC</th>\n",
              "      <td>0.783800</td>\n",
              "      <td>0.784598</td>\n",
              "      <td>0.783800</td>\n",
              "      <td>0.783623</td>\n",
              "    </tr>\n",
              "    <tr>\n",
              "      <th>Random Forest</th>\n",
              "      <td>0.707575</td>\n",
              "      <td>0.718027</td>\n",
              "      <td>0.707575</td>\n",
              "      <td>0.703857</td>\n",
              "    </tr>\n",
              "    <tr>\n",
              "      <th>SGDC Classifier</th>\n",
              "      <td>0.764572</td>\n",
              "      <td>0.765124</td>\n",
              "      <td>0.764572</td>\n",
              "      <td>0.764424</td>\n",
              "    </tr>\n",
              "    <tr>\n",
              "      <th>Artificial Neural Network</th>\n",
              "      <td>0.788913</td>\n",
              "      <td>0.788917</td>\n",
              "      <td>0.788913</td>\n",
              "      <td>0.788909</td>\n",
              "    </tr>\n",
              "  </tbody>\n",
              "</table>\n",
              "</div>\n",
              "    <div class=\"colab-df-buttons\">\n",
              "\n",
              "  <div class=\"colab-df-container\">\n",
              "    <button class=\"colab-df-convert\" onclick=\"convertToInteractive('df-8ac7e13d-0a32-491e-98f3-f27c8af94bc2')\"\n",
              "            title=\"Convert this dataframe to an interactive table.\"\n",
              "            style=\"display:none;\">\n",
              "\n",
              "  <svg xmlns=\"http://www.w3.org/2000/svg\" height=\"24px\" viewBox=\"0 -960 960 960\">\n",
              "    <path d=\"M120-120v-720h720v720H120Zm60-500h600v-160H180v160Zm220 220h160v-160H400v160Zm0 220h160v-160H400v160ZM180-400h160v-160H180v160Zm440 0h160v-160H620v160ZM180-180h160v-160H180v160Zm440 0h160v-160H620v160Z\"/>\n",
              "  </svg>\n",
              "    </button>\n",
              "\n",
              "  <style>\n",
              "    .colab-df-container {\n",
              "      display:flex;\n",
              "      gap: 12px;\n",
              "    }\n",
              "\n",
              "    .colab-df-convert {\n",
              "      background-color: #E8F0FE;\n",
              "      border: none;\n",
              "      border-radius: 50%;\n",
              "      cursor: pointer;\n",
              "      display: none;\n",
              "      fill: #1967D2;\n",
              "      height: 32px;\n",
              "      padding: 0 0 0 0;\n",
              "      width: 32px;\n",
              "    }\n",
              "\n",
              "    .colab-df-convert:hover {\n",
              "      background-color: #E2EBFA;\n",
              "      box-shadow: 0px 1px 2px rgba(60, 64, 67, 0.3), 0px 1px 3px 1px rgba(60, 64, 67, 0.15);\n",
              "      fill: #174EA6;\n",
              "    }\n",
              "\n",
              "    .colab-df-buttons div {\n",
              "      margin-bottom: 4px;\n",
              "    }\n",
              "\n",
              "    [theme=dark] .colab-df-convert {\n",
              "      background-color: #3B4455;\n",
              "      fill: #D2E3FC;\n",
              "    }\n",
              "\n",
              "    [theme=dark] .colab-df-convert:hover {\n",
              "      background-color: #434B5C;\n",
              "      box-shadow: 0px 1px 3px 1px rgba(0, 0, 0, 0.15);\n",
              "      filter: drop-shadow(0px 1px 2px rgba(0, 0, 0, 0.3));\n",
              "      fill: #FFFFFF;\n",
              "    }\n",
              "  </style>\n",
              "\n",
              "    <script>\n",
              "      const buttonEl =\n",
              "        document.querySelector('#df-8ac7e13d-0a32-491e-98f3-f27c8af94bc2 button.colab-df-convert');\n",
              "      buttonEl.style.display =\n",
              "        google.colab.kernel.accessAllowed ? 'block' : 'none';\n",
              "\n",
              "      async function convertToInteractive(key) {\n",
              "        const element = document.querySelector('#df-8ac7e13d-0a32-491e-98f3-f27c8af94bc2');\n",
              "        const dataTable =\n",
              "          await google.colab.kernel.invokeFunction('convertToInteractive',\n",
              "                                                    [key], {});\n",
              "        if (!dataTable) return;\n",
              "\n",
              "        const docLinkHtml = 'Like what you see? Visit the ' +\n",
              "          '<a target=\"_blank\" href=https://colab.research.google.com/notebooks/data_table.ipynb>data table notebook</a>'\n",
              "          + ' to learn more about interactive tables.';\n",
              "        element.innerHTML = '';\n",
              "        dataTable['output_type'] = 'display_data';\n",
              "        await google.colab.output.renderOutput(dataTable, element);\n",
              "        const docLink = document.createElement('div');\n",
              "        docLink.innerHTML = docLinkHtml;\n",
              "        element.appendChild(docLink);\n",
              "      }\n",
              "    </script>\n",
              "  </div>\n",
              "\n",
              "\n",
              "<div id=\"df-f790c612-24c6-497d-b44e-6709f9a463f4\">\n",
              "  <button class=\"colab-df-quickchart\" onclick=\"quickchart('df-f790c612-24c6-497d-b44e-6709f9a463f4')\"\n",
              "            title=\"Suggest charts\"\n",
              "            style=\"display:none;\">\n",
              "\n",
              "<svg xmlns=\"http://www.w3.org/2000/svg\" height=\"24px\"viewBox=\"0 0 24 24\"\n",
              "     width=\"24px\">\n",
              "    <g>\n",
              "        <path d=\"M19 3H5c-1.1 0-2 .9-2 2v14c0 1.1.9 2 2 2h14c1.1 0 2-.9 2-2V5c0-1.1-.9-2-2-2zM9 17H7v-7h2v7zm4 0h-2V7h2v10zm4 0h-2v-4h2v4z\"/>\n",
              "    </g>\n",
              "</svg>\n",
              "  </button>\n",
              "\n",
              "<style>\n",
              "  .colab-df-quickchart {\n",
              "      --bg-color: #E8F0FE;\n",
              "      --fill-color: #1967D2;\n",
              "      --hover-bg-color: #E2EBFA;\n",
              "      --hover-fill-color: #174EA6;\n",
              "      --disabled-fill-color: #AAA;\n",
              "      --disabled-bg-color: #DDD;\n",
              "  }\n",
              "\n",
              "  [theme=dark] .colab-df-quickchart {\n",
              "      --bg-color: #3B4455;\n",
              "      --fill-color: #D2E3FC;\n",
              "      --hover-bg-color: #434B5C;\n",
              "      --hover-fill-color: #FFFFFF;\n",
              "      --disabled-bg-color: #3B4455;\n",
              "      --disabled-fill-color: #666;\n",
              "  }\n",
              "\n",
              "  .colab-df-quickchart {\n",
              "    background-color: var(--bg-color);\n",
              "    border: none;\n",
              "    border-radius: 50%;\n",
              "    cursor: pointer;\n",
              "    display: none;\n",
              "    fill: var(--fill-color);\n",
              "    height: 32px;\n",
              "    padding: 0;\n",
              "    width: 32px;\n",
              "  }\n",
              "\n",
              "  .colab-df-quickchart:hover {\n",
              "    background-color: var(--hover-bg-color);\n",
              "    box-shadow: 0 1px 2px rgba(60, 64, 67, 0.3), 0 1px 3px 1px rgba(60, 64, 67, 0.15);\n",
              "    fill: var(--button-hover-fill-color);\n",
              "  }\n",
              "\n",
              "  .colab-df-quickchart-complete:disabled,\n",
              "  .colab-df-quickchart-complete:disabled:hover {\n",
              "    background-color: var(--disabled-bg-color);\n",
              "    fill: var(--disabled-fill-color);\n",
              "    box-shadow: none;\n",
              "  }\n",
              "\n",
              "  .colab-df-spinner {\n",
              "    border: 2px solid var(--fill-color);\n",
              "    border-color: transparent;\n",
              "    border-bottom-color: var(--fill-color);\n",
              "    animation:\n",
              "      spin 1s steps(1) infinite;\n",
              "  }\n",
              "\n",
              "  @keyframes spin {\n",
              "    0% {\n",
              "      border-color: transparent;\n",
              "      border-bottom-color: var(--fill-color);\n",
              "      border-left-color: var(--fill-color);\n",
              "    }\n",
              "    20% {\n",
              "      border-color: transparent;\n",
              "      border-left-color: var(--fill-color);\n",
              "      border-top-color: var(--fill-color);\n",
              "    }\n",
              "    30% {\n",
              "      border-color: transparent;\n",
              "      border-left-color: var(--fill-color);\n",
              "      border-top-color: var(--fill-color);\n",
              "      border-right-color: var(--fill-color);\n",
              "    }\n",
              "    40% {\n",
              "      border-color: transparent;\n",
              "      border-right-color: var(--fill-color);\n",
              "      border-top-color: var(--fill-color);\n",
              "    }\n",
              "    60% {\n",
              "      border-color: transparent;\n",
              "      border-right-color: var(--fill-color);\n",
              "    }\n",
              "    80% {\n",
              "      border-color: transparent;\n",
              "      border-right-color: var(--fill-color);\n",
              "      border-bottom-color: var(--fill-color);\n",
              "    }\n",
              "    90% {\n",
              "      border-color: transparent;\n",
              "      border-bottom-color: var(--fill-color);\n",
              "    }\n",
              "  }\n",
              "</style>\n",
              "\n",
              "  <script>\n",
              "    async function quickchart(key) {\n",
              "      const quickchartButtonEl =\n",
              "        document.querySelector('#' + key + ' button');\n",
              "      quickchartButtonEl.disabled = true;  // To prevent multiple clicks.\n",
              "      quickchartButtonEl.classList.add('colab-df-spinner');\n",
              "      try {\n",
              "        const charts = await google.colab.kernel.invokeFunction(\n",
              "            'suggestCharts', [key], {});\n",
              "      } catch (error) {\n",
              "        console.error('Error during call to suggestCharts:', error);\n",
              "      }\n",
              "      quickchartButtonEl.classList.remove('colab-df-spinner');\n",
              "      quickchartButtonEl.classList.add('colab-df-quickchart-complete');\n",
              "    }\n",
              "    (() => {\n",
              "      let quickchartButtonEl =\n",
              "        document.querySelector('#df-f790c612-24c6-497d-b44e-6709f9a463f4 button');\n",
              "      quickchartButtonEl.style.display =\n",
              "        google.colab.kernel.accessAllowed ? 'block' : 'none';\n",
              "    })();\n",
              "  </script>\n",
              "</div>\n",
              "\n",
              "  <div id=\"id_2dac6d90-8e02-4a3b-b72c-1bad2409b62c\">\n",
              "    <style>\n",
              "      .colab-df-generate {\n",
              "        background-color: #E8F0FE;\n",
              "        border: none;\n",
              "        border-radius: 50%;\n",
              "        cursor: pointer;\n",
              "        display: none;\n",
              "        fill: #1967D2;\n",
              "        height: 32px;\n",
              "        padding: 0 0 0 0;\n",
              "        width: 32px;\n",
              "      }\n",
              "\n",
              "      .colab-df-generate:hover {\n",
              "        background-color: #E2EBFA;\n",
              "        box-shadow: 0px 1px 2px rgba(60, 64, 67, 0.3), 0px 1px 3px 1px rgba(60, 64, 67, 0.15);\n",
              "        fill: #174EA6;\n",
              "      }\n",
              "\n",
              "      [theme=dark] .colab-df-generate {\n",
              "        background-color: #3B4455;\n",
              "        fill: #D2E3FC;\n",
              "      }\n",
              "\n",
              "      [theme=dark] .colab-df-generate:hover {\n",
              "        background-color: #434B5C;\n",
              "        box-shadow: 0px 1px 3px 1px rgba(0, 0, 0, 0.15);\n",
              "        filter: drop-shadow(0px 1px 2px rgba(0, 0, 0, 0.3));\n",
              "        fill: #FFFFFF;\n",
              "      }\n",
              "    </style>\n",
              "    <button class=\"colab-df-generate\" onclick=\"generateWithVariable('performance_df')\"\n",
              "            title=\"Generate code using this dataframe.\"\n",
              "            style=\"display:none;\">\n",
              "\n",
              "  <svg xmlns=\"http://www.w3.org/2000/svg\" height=\"24px\"viewBox=\"0 0 24 24\"\n",
              "       width=\"24px\">\n",
              "    <path d=\"M7,19H8.4L18.45,9,17,7.55,7,17.6ZM5,21V16.75L18.45,3.32a2,2,0,0,1,2.83,0l1.4,1.43a1.91,1.91,0,0,1,.58,1.4,1.91,1.91,0,0,1-.58,1.4L9.25,21ZM18.45,9,17,7.55Zm-12,3A5.31,5.31,0,0,0,4.9,8.1,5.31,5.31,0,0,0,1,6.5,5.31,5.31,0,0,0,4.9,4.9,5.31,5.31,0,0,0,6.5,1,5.31,5.31,0,0,0,8.1,4.9,5.31,5.31,0,0,0,12,6.5,5.46,5.46,0,0,0,6.5,12Z\"/>\n",
              "  </svg>\n",
              "    </button>\n",
              "    <script>\n",
              "      (() => {\n",
              "      const buttonEl =\n",
              "        document.querySelector('#id_2dac6d90-8e02-4a3b-b72c-1bad2409b62c button.colab-df-generate');\n",
              "      buttonEl.style.display =\n",
              "        google.colab.kernel.accessAllowed ? 'block' : 'none';\n",
              "\n",
              "      buttonEl.onclick = () => {\n",
              "        google.colab.notebook.generateWithVariable('performance_df');\n",
              "      }\n",
              "      })();\n",
              "    </script>\n",
              "  </div>\n",
              "\n",
              "    </div>\n",
              "  </div>\n"
            ],
            "application/vnd.google.colaboratory.intrinsic+json": {
              "type": "dataframe",
              "variable_name": "performance_df",
              "summary": "{\n  \"name\": \"performance_df\",\n  \"rows\": 6,\n  \"fields\": [\n    {\n      \"column\": \"Accuracy\",\n      \"properties\": {\n        \"dtype\": \"number\",\n        \"std\": 0.030374170449063324,\n        \"min\": 0.707575,\n        \"max\": 0.7889125,\n        \"num_unique_values\": 6,\n        \"samples\": [\n          0.784809375,\n          0.76741875,\n          0.7889125\n        ],\n        \"semantic_type\": \"\",\n        \"description\": \"\"\n      }\n    },\n    {\n      \"column\": \"Precision\",\n      \"properties\": {\n        \"dtype\": \"number\",\n        \"std\": 0.026530320480354485,\n        \"min\": 0.7180268208578652,\n        \"max\": 0.7889166962073423,\n        \"num_unique_values\": 6,\n        \"samples\": [\n          0.7853425980132822,\n          0.7674640535174605,\n          0.7889166962073423\n        ],\n        \"semantic_type\": \"\",\n        \"description\": \"\"\n      }\n    },\n    {\n      \"column\": \"Recall\",\n      \"properties\": {\n        \"dtype\": \"number\",\n        \"std\": 0.030374170449063324,\n        \"min\": 0.707575,\n        \"max\": 0.7889125,\n        \"num_unique_values\": 6,\n        \"samples\": [\n          0.784809375,\n          0.76741875,\n          0.7889125\n        ],\n        \"semantic_type\": \"\",\n        \"description\": \"\"\n      }\n    },\n    {\n      \"column\": \"F1 Score\",\n      \"properties\": {\n        \"dtype\": \"number\",\n        \"std\": 0.03177840638295409,\n        \"min\": 0.7038566797440324,\n        \"max\": 0.7889093922364103,\n        \"num_unique_values\": 6,\n        \"samples\": [\n          0.7846879742940635,\n          0.767415080940561,\n          0.7889093922364103\n        ],\n        \"semantic_type\": \"\",\n        \"description\": \"\"\n      }\n    }\n  ]\n}"
            }
          },
          "metadata": {},
          "execution_count": 46
        }
      ]
    },
    {
      "cell_type": "markdown",
      "metadata": {
        "id": "7l_8awzQYHii"
      },
      "source": [
        "#6. Model Optimization"
      ]
    },
    {
      "cell_type": "markdown",
      "metadata": {
        "id": "qSlkRm-NYK0x"
      },
      "source": [
        "Model optimization involves selecting the right parameters for your models to improve their performance. This is usually done through a process known as hyperparameter tuning, where we can search through a predefined space of hyperparameters to find the combination that performs best on our validation set. Common strategies include Grid Search and Random Search. Here's how we could approach model optimization:\n",
        "\n",
        "- For Logistic Regression:\n",
        "  - We might optimize the regularization strength (C) and the type of penalty (l1 or l2).\n",
        "\n",
        "- For Linear SVM:\n",
        "  - We can tune the regularization parameter (C) and the loss function (hinge or squared_hinge).\n"
      ]
    },
    {
      "cell_type": "code",
      "execution_count": null,
      "metadata": {
        "colab": {
          "base_uri": "https://localhost:8080/"
        },
        "id": "iaIrLbLHYbyO",
        "outputId": "d6690ee6-6317-4bc5-9890-5839dc4f5bd0"
      },
      "outputs": [
        {
          "output_type": "stream",
          "name": "stdout",
          "text": [
            "Best 'C' Parameter: [0.35938137]\n",
            "              precision    recall  f1-score   support\n",
            "\n",
            "           0       0.80      0.76      0.78    159494\n",
            "           4       0.77      0.81      0.79    160506\n",
            "\n",
            "    accuracy                           0.78    320000\n",
            "   macro avg       0.78      0.78      0.78    320000\n",
            "weighted avg       0.78      0.78      0.78    320000\n",
            "\n"
          ]
        }
      ],
      "source": [
        "from sklearn.linear_model import LogisticRegressionCV\n",
        "\n",
        "# Logistic Regression with built-in Cross-Validation to find the best 'C'\n",
        "log_reg_cv = LogisticRegressionCV(\n",
        "    Cs=10,  # 10 values for 'C' to try\n",
        "    cv=3,  # Fewer folds\n",
        "    penalty='l2',  # Assuming l2 penalty\n",
        "    solver='saga',  # Efficient solver for large datasets\n",
        "    random_state=42,\n",
        "    max_iter=1000,  # May need to increase if convergence warnings arise\n",
        "    n_jobs=-1\n",
        ")\n",
        "\n",
        "# Fit the model\n",
        "log_reg_cv.fit(X_train_tfidf, y_train)\n",
        "\n",
        "# Predictions and report\n",
        "log_reg_cv_pred = log_reg_cv.predict(X_test_tfidf)\n",
        "log_reg_cv_report = classification_report(y_test, log_reg_cv_pred)\n",
        "\n",
        "# Print the best 'C' parameter and the report\n",
        "print(\"Best 'C' Parameter:\", log_reg_cv.C_)\n",
        "print(log_reg_cv_report)\n"
      ]
    },
    {
      "cell_type": "code",
      "source": [
        "from sklearn.svm import LinearSVC\n",
        "from sklearn.model_selection import RandomizedSearchCV\n",
        "from scipy.stats import loguniform\n",
        "from sklearn.metrics import classification_report, accuracy_score\n",
        "\n",
        "# Define your feature matrices and target vectors for both training and testing sets\n",
        "X_train = X_train_tfidf\n",
        "y_train = y_train\n",
        "X_test = X_test_tfidf\n",
        "y_test = y_test\n",
        "\n",
        "# Instantiate the LinearSVC model\n",
        "linear_svc = LinearSVC(dual=False, max_iter=10000, random_state=42)\n",
        "\n",
        "# Define the hyperparameters search space\n",
        "param_distributions = {'C': loguniform(1e-4, 1e2)}\n",
        "\n",
        "# Instantiate the RandomizedSearchCV object\n",
        "random_search_svc = RandomizedSearchCV(\n",
        "    linear_svc,\n",
        "    param_distributions=param_distributions,\n",
        "    n_iter=10,  # Number of parameter settings sampled\n",
        "    cv=3,  # 3-fold cross-validation\n",
        "    verbose=1,\n",
        "    n_jobs=-1,  # Use all available cores\n",
        "    random_state=42\n",
        ")\n",
        "\n",
        "# Fit the RandomizedSearchCV object to the training data\n",
        "random_search_svc.fit(X_train, y_train)\n",
        "\n",
        "# Get the best LinearSVC model\n",
        "best_linear_svc = random_search_svc.best_estimator_\n",
        "\n",
        "# Retrain the model on the entire training dataset using the best-found hyperparameters\n",
        "best_linear_svc.fit(X_train, y_train)\n",
        "\n",
        "# Predict on the test data with the retrained model\n",
        "y_pred = best_linear_svc.predict(X_test)\n",
        "\n",
        "# Evaluate the optimized model\n",
        "accuracy = accuracy_score(y_test, y_pred)\n",
        "class_report = classification_report(y_test, y_pred)\n",
        "\n",
        "# Print the evaluation results\n",
        "print(f\"Optimized Model Accuracy: {accuracy:.4f}\")\n",
        "print(\"Classification Report:\\n\", class_report)\n",
        "\n",
        "# Print the best parameters\n",
        "print(\"Best Parameters Found by Randomized Search:\", random_search_svc.best_params_)\n"
      ],
      "metadata": {
        "colab": {
          "base_uri": "https://localhost:8080/"
        },
        "id": "dDkgPpvc1T_l",
        "outputId": "62f50534-1fe4-42a8-d029-1fc8ce956982"
      },
      "execution_count": null,
      "outputs": [
        {
          "output_type": "stream",
          "name": "stdout",
          "text": [
            "Fitting 3 folds for each of 10 candidates, totalling 30 fits\n",
            "Optimized Model Accuracy: 0.7839\n",
            "Classification Report:\n",
            "               precision    recall  f1-score   support\n",
            "\n",
            "           0       0.80      0.76      0.78    159494\n",
            "           4       0.77      0.81      0.79    160506\n",
            "\n",
            "    accuracy                           0.78    320000\n",
            "   macro avg       0.78      0.78      0.78    320000\n",
            "weighted avg       0.78      0.78      0.78    320000\n",
            "\n",
            "Best Parameters Found by Randomized Search: {'C': 0.39079671568228835}\n"
          ]
        }
      ]
    },
    {
      "cell_type": "markdown",
      "source": [
        "Extra trial- Optimization of Logistic Regression (Taking more time to run):"
      ],
      "metadata": {
        "id": "rtoh0azsuPyH"
      }
    },
    {
      "cell_type": "code",
      "source": [
        "from sklearn.linear_model import LogisticRegression\n",
        "from sklearn.model_selection import GridSearchCV\n",
        "from sklearn.metrics import accuracy_score, classification_report\n",
        "\n",
        "# Define a logistic regression model\n",
        "logreg = LogisticRegression(random_state=42, max_iter=1000)\n",
        "\n",
        "# Define the parameter grid\n",
        "param_grid = {\n",
        "    'C': np.logspace(-4, 4, 20),  # Explore a wide range of regularization strengths\n",
        "    'penalty': ['l1', 'l2'],  # L1 and L2 regularization\n",
        "    'solver': ['liblinear']  # Solver compatible with L1 penalty\n",
        "}\n",
        "\n",
        "# Setup GridSearchCV\n",
        "grid_search = GridSearchCV(logreg, param_grid, cv=5, scoring='accuracy', verbose=1)\n",
        "\n",
        "# Fit the model\n",
        "grid_search.fit(X_train_tfidf, y_train)\n",
        "\n",
        "# Best parameters and best score\n",
        "print(f\"Best Parameters: {grid_search.best_params_}\")\n",
        "print(f\"Best Accuracy: {grid_search.best_score_}\")\n",
        "\n",
        "# Predict on the test set with the best parameters\n",
        "logreg_pred = grid_search.predict(X_test_tfidf)\n",
        "\n",
        "# Evaluate the model\n",
        "print(\"Logistic Regression Accuracy:\", accuracy_score(y_test, logreg_pred))\n",
        "print(classification_report(y_test, logreg_pred)"
      ],
      "metadata": {
        "id": "ogwvOyB79kce",
        "colab": {
          "base_uri": "https://localhost:8080/"
        },
        "outputId": "ea48a9d9-7e74-4683-9d83-7a7f5478b56c"
      },
      "execution_count": null,
      "outputs": [
        {
          "output_type": "stream",
          "name": "stdout",
          "text": [
            "Fitting 5 folds for each of 40 candidates, totalling 200 fits\n",
            "Best Parameters: {'C': 0.615848211066026, 'penalty': 'l1', 'solver': 'liblinear'}\n",
            "Best Accuracy: 0.78463359375\n",
            "Logistic Regression Accuracy: 0.7850625\n",
            "              precision    recall  f1-score   support\n",
            "\n",
            "           0       0.80      0.76      0.78    159494\n",
            "           4       0.77      0.81      0.79    160506\n",
            "\n",
            "    accuracy                           0.79    320000\n",
            "   macro avg       0.79      0.78      0.78    320000\n",
            "weighted avg       0.79      0.79      0.78    320000\n",
            "\n"
          ]
        }
      ]
    },
    {
      "cell_type": "markdown",
      "source": [
        "# 7. Sentiment Predictions"
      ],
      "metadata": {
        "id": "DxQu040NFUyd"
      }
    },
    {
      "cell_type": "markdown",
      "source": [
        "As ANN model was having the highest accuracy, we have selected ANN model as our base and based on that we have executed the sentiment predictions."
      ],
      "metadata": {
        "id": "FP1AWwcHFm5V"
      }
    },
    {
      "cell_type": "code",
      "source": [
        "# Import the required modules\n",
        "from sklearn.neural_network import MLPClassifier\n",
        "from sklearn.feature_extraction.text import TfidfVectorizer\n",
        "from sklearn.pipeline import Pipeline\n",
        "import joblib"
      ],
      "metadata": {
        "id": "8GjMWiXn3Ict"
      },
      "execution_count": null,
      "outputs": []
    },
    {
      "cell_type": "code",
      "source": [
        "# Load the trained model\n",
        "joblib.dump(mlp, 'ann_model_pipeline.pkl')"
      ],
      "metadata": {
        "colab": {
          "base_uri": "https://localhost:8080/"
        },
        "id": "v548cxp1350t",
        "outputId": "450ac028-be0f-4e96-eea8-7c87e0227cac"
      },
      "execution_count": null,
      "outputs": [
        {
          "output_type": "execute_result",
          "data": {
            "text/plain": [
              "['ann_model_pipeline.pkl']"
            ]
          },
          "metadata": {},
          "execution_count": 35
        }
      ]
    },
    {
      "cell_type": "code",
      "source": [
        "## Based on the word can we predict the sentiment to be positive or negative\n",
        "\n",
        "# Assuming 'text' contains the preprocessed text\n",
        "def predict_sentiment(text):\n",
        "  # Vectorize the input text using the same TfidfVectorizer used for training\n",
        "  tfidf_vector = tfidf_vectorizer.transform([text])\n",
        "\n",
        "  # Predict the sentiment using the trained model\n",
        "  prediction = mlp.predict(tfidf_vector)\n",
        "\n",
        "  # Map the prediction to a sentiment label\n",
        "  if prediction == 0:\n",
        "    return 'Negative'\n",
        "  else:\n",
        "    return 'Positive'"
      ],
      "metadata": {
        "id": "Q_NkHPuW2CuO"
      },
      "execution_count": null,
      "outputs": []
    },
    {
      "cell_type": "code",
      "source": [
        "# Example 1 usage:\n",
        "text = \"You have completed your homework\"\n",
        "sentiment = predict_sentiment(text)\n",
        "print(\"Sentiment:\", sentiment)"
      ],
      "metadata": {
        "id": "OSBsO22uA5yv"
      },
      "execution_count": null,
      "outputs": []
    },
    {
      "cell_type": "code",
      "source": [
        "# Example 2 usage:\n",
        "text = \"There is traffic outside\"\n",
        "sentiment = predict_sentiment(text)\n",
        "print(\"Sentiment:\", sentiment)"
      ],
      "metadata": {
        "colab": {
          "base_uri": "https://localhost:8080/"
        },
        "id": "4mFQsv7WAhU9",
        "outputId": "0227e3ac-320f-46e0-9a4d-02cb06bc19f1"
      },
      "execution_count": null,
      "outputs": [
        {
          "output_type": "stream",
          "name": "stdout",
          "text": [
            "Sentiment: Negative\n"
          ]
        }
      ]
    }
  ],
  "metadata": {
    "colab": {
      "provenance": [],
      "gpuType": "T4"
    },
    "kernelspec": {
      "display_name": "Python 3",
      "name": "python3"
    },
    "language_info": {
      "name": "python"
    },
    "accelerator": "GPU"
  },
  "nbformat": 4,
  "nbformat_minor": 0
}